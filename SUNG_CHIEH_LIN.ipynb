{
 "cells": [
  {
   "cell_type": "markdown",
   "metadata": {},
   "source": [
    "# Load data"
   ]
  },
  {
   "cell_type": "code",
   "execution_count": 1,
   "metadata": {},
   "outputs": [],
   "source": [
    "import pandas as pd\n",
    "import nltk \n",
    "import re\n",
    "import string\n",
    "import numpy as np\n",
    "from textblob import TextBlob\n",
    "from wordcloud import WordCloud\n",
    "import matplotlib.pyplot as plt\n",
    "from sklearn.feature_extraction.text import CountVectorizer, TfidfVectorizer\n",
    "from sklearn.model_selection import train_test_split\n",
    "from sklearn.svm import LinearSVC, SVC\n",
    "from sklearn.linear_model import LogisticRegression\n",
    "from sklearn.metrics import accuracy_score\n",
    "from sklearn.metrics import classification_report, confusion_matrix\n",
    "from sklearn.ensemble import RandomForestClassifier\n",
    "from sklearn.tree import DecisionTreeRegressor\n",
    "from langdetect import detect\n",
    "from sklearn.discriminant_analysis import LinearDiscriminantAnalysis as LDA\n",
    "from sklearn.naive_bayes import BernoulliNB\n",
    "from sklearn.naive_bayes import MultinomialNB\n",
    "from sklearn.decomposition import TruncatedSVD"
   ]
  },
  {
   "cell_type": "code",
   "execution_count": 30,
   "metadata": {
    "scrolled": true
   },
   "outputs": [
    {
     "name": "stderr",
     "output_type": "stream",
     "text": [
      "C:\\Users\\Jack\\Anaconda3\\lib\\site-packages\\ipykernel_launcher.py:7: SettingWithCopyWarning: \n",
      "A value is trying to be set on a copy of a slice from a DataFrame.\n",
      "Try using .loc[row_indexer,col_indexer] = value instead\n",
      "\n",
      "See the caveats in the documentation: http://pandas.pydata.org/pandas-docs/stable/user_guide/indexing.html#returning-a-view-versus-a-copy\n",
      "  import sys\n",
      "C:\\Users\\Jack\\Anaconda3\\lib\\site-packages\\ipykernel_launcher.py:9: SettingWithCopyWarning: \n",
      "A value is trying to be set on a copy of a slice from a DataFrame.\n",
      "Try using .loc[row_indexer,col_indexer] = value instead\n",
      "\n",
      "See the caveats in the documentation: http://pandas.pydata.org/pandas-docs/stable/user_guide/indexing.html#returning-a-view-versus-a-copy\n",
      "  if __name__ == '__main__':\n"
     ]
    }
   ],
   "source": [
    "# load data\n",
    "hotel_df = pd.read_csv(\"7282_1.csv\")\n",
    "\n",
    "# some hundred ratings are above 5, so I do some math and then combine them together\n",
    "hotel_df = pd.read_csv(\"7282_1.csv\")\n",
    "hotel_df1 = hotel_df[hotel_df[\"reviews.rating\"] <= 5]\n",
    "hotel_df1[\"reviews.rating\"] = round(hotel_df1[\"reviews.rating\"])\n",
    "hotel_df2 = hotel_df[hotel_df[\"reviews.rating\"] > 5]\n",
    "hotel_df2[\"reviews.rating\"] = round(hotel_df2[\"reviews.rating\"]/2)\n",
    "hotel_df = pd.concat([hotel_df1,hotel_df2])\n",
    "\n",
    "# drop not useful column\n",
    "hotel_df=hotel_df.drop([\"reviews.doRecommend\",\"reviews.id\"], axis=1)\n",
    "\n",
    "# rename becasue it is easy to do study\n",
    "hotel_df.rename(columns={'address': 'hotel_address', 'city': 'hotel_city',\n",
    "                     'country':'hotel_country', 'name':'hotel_name'},\n",
    "            inplace=True)\n",
    "\n",
    "# pick the column that I will use.\n",
    "hotel_df = hotel_df.loc[:,[\"province\",\"reviews.date\",\"hotel_address\",\"hotel_city\",\"hotel_country\",\"hotel_name\",\"reviews.rating\",\"reviews.text\"]]\n",
    "\n",
    "# shuffle the data.\n",
    "hotel_df = hotel_df.reindex(np.random.permutation(hotel_df.index)) \n"
   ]
  },
  {
   "cell_type": "code",
   "execution_count": 195,
   "metadata": {
    "scrolled": true
   },
   "outputs": [
    {
     "data": {
      "text/plain": [
       "793"
      ]
     },
     "execution_count": 195,
     "metadata": {},
     "output_type": "execute_result"
    }
   ],
   "source": [
    "#total number of unique hotels\n",
    "len(hotel_df.hotel_name.unique())"
   ]
  },
  {
   "cell_type": "markdown",
   "metadata": {},
   "source": [
    "# Check Missing Value"
   ]
  },
  {
   "cell_type": "code",
   "execution_count": 196,
   "metadata": {
    "scrolled": false
   },
   "outputs": [
    {
     "data": {
      "text/plain": [
       "province            0\n",
       "reviews.date      259\n",
       "hotel_address       0\n",
       "hotel_city          0\n",
       "hotel_country       0\n",
       "hotel_name          0\n",
       "reviews.rating      0\n",
       "reviews.text       22\n",
       "dtype: int64"
      ]
     },
     "execution_count": 196,
     "metadata": {},
     "output_type": "execute_result"
    }
   ],
   "source": [
    "# Check the missing value\n",
    "hotel_df.isnull().sum()"
   ]
  },
  {
   "cell_type": "markdown",
   "metadata": {},
   "source": [
    "# Preprocessing data"
   ]
  },
  {
   "cell_type": "code",
   "execution_count": 31,
   "metadata": {},
   "outputs": [],
   "source": [
    "hotel_df[\"reviews.text\"] = hotel_df.loc[:,\"reviews.text\"].replace(\"xxxxxxxxxxxxxxxxxxxxxxxxxxxxxxxxxxxxxxxxxx\", float(\"NaN\"))\n",
    "hotel_df= hotel_df.dropna(subset = [\"reviews.text\",\"province\",\"reviews.date\", \"reviews.rating\"], how = \"any\")\n",
    "wn = nltk.WordNetLemmatizer()\n",
    "stopwords = nltk.corpus.stopwords.words('english')\n",
    "def cleaning_text(corpus):\n",
    "    corpus = re.sub(\"#\", \"\", corpus)\n",
    "    corpus = re.sub(\"@\", \"\", corpus)\n",
    "    corpus = re.sub(\"http?:\\/\\/\\S+\",\"\",corpus)\n",
    "    corpus = re.sub(\"n't\", \" not\", corpus)\n",
    "    corpus = re.sub(\"'ll\", \" will\", corpus)\n",
    "    corpus = re.sub(\"'s\", \" is\", corpus)\n",
    "    corpus = re.sub(\"'re\", \" are\", corpus)\n",
    "    corpus = re.sub(\"'m\", \" am\", corpus)\n",
    "    corpus = re.sub(\"�\", \"\", corpus)\n",
    "    corpus = corpus.lower()\n",
    "    \n",
    "    no_str_punc_corpus = \"\".join([word for word in corpus if word not in string.punctuation])\n",
    "    cleaned_text = []\n",
    "    for word in corpus.split():\n",
    "        if word not in stopwords:\n",
    "            if re.match(\"[a-zA-Z]+\", word):\n",
    "                cleaned_text.append(word)\n",
    "    sentences = \" \".join([word for word in cleaned_text])\n",
    "    \n",
    "    return sentences        "
   ]
  },
  {
   "cell_type": "code",
   "execution_count": 32,
   "metadata": {
    "scrolled": true
   },
   "outputs": [],
   "source": [
    "hotel_df[\"cleaned_text\"] = hotel_df['reviews.text'].apply(lambda x: cleaning_text(x))"
   ]
  },
  {
   "cell_type": "code",
   "execution_count": 33,
   "metadata": {
    "scrolled": true
   },
   "outputs": [
    {
     "data": {
      "text/plain": [
       "province          0\n",
       "reviews.date      0\n",
       "hotel_address     0\n",
       "hotel_city        0\n",
       "hotel_country     0\n",
       "hotel_name        0\n",
       "reviews.rating    0\n",
       "reviews.text      0\n",
       "cleaned_text      0\n",
       "dtype: int64"
      ]
     },
     "execution_count": 33,
     "metadata": {},
     "output_type": "execute_result"
    }
   ],
   "source": [
    "hotel_df[\"cleaned_text\"] = hotel_df[\"cleaned_text\"].replace(\"\",float(\"NaN\"))\n",
    "hotel_df[\"cleaned_text\"] = hotel_df[\"cleaned_text\"].replace(\". .\", float(\"NaN\"))\n",
    "hotel_df= hotel_df.dropna(subset = [\"cleaned_text\"], how = \"any\")\n",
    "hotel_df.isnull().sum()"
   ]
  },
  {
   "cell_type": "markdown",
   "metadata": {},
   "source": [
    "# Sentiment Analysis"
   ]
  },
  {
   "cell_type": "code",
   "execution_count": 34,
   "metadata": {},
   "outputs": [],
   "source": [
    "from vaderSentiment.vaderSentiment import SentimentIntensityAnalyzer\n",
    "analyzer = SentimentIntensityAnalyzer()\n",
    "sentiment = hotel_df['cleaned_text'].apply(lambda x: analyzer.polarity_scores(x))\n",
    "hotel_df = pd.concat([hotel_df,sentiment.apply(pd.Series)],1)"
   ]
  },
  {
   "cell_type": "code",
   "execution_count": 35,
   "metadata": {
    "scrolled": true
   },
   "outputs": [],
   "source": [
    "def output(compound_score):\n",
    "    if compound_score >= 0.05:\n",
    "        return 'Positive'\n",
    "    else:\n",
    "        return 'Negative'\n",
    "    \n",
    "hotel_df[\"Analysis\"] = hotel_df[\"compound\"].apply(output)"
   ]
  },
  {
   "cell_type": "code",
   "execution_count": 41,
   "metadata": {},
   "outputs": [
    {
     "name": "stdout",
     "output_type": "stream",
     "text": [
      "Number of Positve tagged sentences is:  27426\n",
      "Number of Negative tagged sentences is: 7238\n",
      "Total length of the data is:          34664\n"
     ]
    }
   ],
   "source": [
    "print('Number of Positve tagged sentences is:  {}'.format(len(hotel_df[hotel_df[\"Analysis\"]=='Positive'])))\n",
    "print('Number of Negative tagged sentences is: {}'.format(len(hotel_df[hotel_df[\"Analysis\"]=='Negative'])))\n",
    "print('Total length of the data is:          {}'.format(hotel_df.shape[0]))"
   ]
  },
  {
   "cell_type": "markdown",
   "metadata": {},
   "source": [
    "# Machine Learning"
   ]
  },
  {
   "cell_type": "code",
   "execution_count": 62,
   "metadata": {},
   "outputs": [],
   "source": [
    "#split data first\n",
    "sentiment_ML = hotel_df.loc[:,[\"Analysis\", \"cleaned_text\"]]\n",
    "x_train, x_test, y_train, y_test = train_test_split(sentiment_ML[\"cleaned_text\"], sentiment_ML[\"Analysis\"], test_size=0.25, random_state = 42)"
   ]
  },
  {
   "cell_type": "markdown",
   "metadata": {},
   "source": [
    "# Multinomial NB"
   ]
  },
  {
   "cell_type": "markdown",
   "metadata": {},
   "source": [
    "CV with ngram"
   ]
  },
  {
   "cell_type": "code",
   "execution_count": 63,
   "metadata": {
    "scrolled": true
   },
   "outputs": [
    {
     "name": "stdout",
     "output_type": "stream",
     "text": [
      "Multinomial NB: 0.8498786548018028\n"
     ]
    }
   ],
   "source": [
    "cv = CountVectorizer(ngram_range = (1,2), stop_words='english')\n",
    "x_cv_train = cv.fit_transform(x_train)\n",
    "x_cv_test = cv.transform(x_test)\n",
    "classf = MultinomialNB()\n",
    "classf.fit(x_cv_train, y_train)\n",
    "pred = classf.predict(x_cv_test)\n",
    "print(\"Multinomial NB:\",accuracy_score(y_test, pred))"
   ]
  },
  {
   "cell_type": "markdown",
   "metadata": {},
   "source": [
    "TF-IDF with ngram"
   ]
  },
  {
   "cell_type": "code",
   "execution_count": 64,
   "metadata": {
    "scrolled": true
   },
   "outputs": [
    {
     "name": "stdout",
     "output_type": "stream",
     "text": [
      "Multinomial NB: 0.8576216341153358\n"
     ]
    }
   ],
   "source": [
    "tf = TfidfVectorizer(ngram_range=(1,1),stop_words='english')\n",
    "x_tf_train = tf.fit_transform(x_train)\n",
    "x_tf_test = tf.transform(x_test)\n",
    "classf = BernoulliNB()\n",
    "classf.fit(x_tf_train, y_train)\n",
    "pred = classf.predict(x_tf_test)\n",
    "print(\"Multinomial NB:\",accuracy_score(y_test, pred))"
   ]
  },
  {
   "cell_type": "markdown",
   "metadata": {},
   "source": [
    "# Linear Support Vector "
   ]
  },
  {
   "cell_type": "markdown",
   "metadata": {},
   "source": [
    "cv with ngram"
   ]
  },
  {
   "cell_type": "code",
   "execution_count": 65,
   "metadata": {
    "scrolled": true
   },
   "outputs": [
    {
     "name": "stdout",
     "output_type": "stream",
     "text": [
      "LinearSVC: 0.9342424592626835\n"
     ]
    },
    {
     "name": "stderr",
     "output_type": "stream",
     "text": [
      "C:\\Users\\Jack\\Anaconda3\\lib\\site-packages\\sklearn\\svm\\base.py:929: ConvergenceWarning: Liblinear failed to converge, increase the number of iterations.\n",
      "  \"the number of iterations.\", ConvergenceWarning)\n"
     ]
    }
   ],
   "source": [
    "cv = CountVectorizer(ngram_range = (1,2), stop_words='english')\n",
    "x_cv_train = cv.fit_transform(x_train)\n",
    "x_cv_test = cv.transform(x_test)\n",
    "classf = LinearSVC()\n",
    "classf.fit(x_cv_train, y_train)\n",
    "pred = classf.predict(x_cv_test)\n",
    "print(\"LinearSVC:\",accuracy_score(y_test, pred))"
   ]
  },
  {
   "cell_type": "code",
   "execution_count": 66,
   "metadata": {},
   "outputs": [
    {
     "name": "stdout",
     "output_type": "stream",
     "text": [
      "LinearSVC: 0.9345891598289611\n"
     ]
    }
   ],
   "source": [
    "tf = TfidfVectorizer(ngram_range=(1,1),stop_words='english')\n",
    "x_tf_train = tf.fit_transform(x_train)\n",
    "x_tf_test = tf.transform(x_test)\n",
    "classf = LinearSVC()\n",
    "classf.fit(x_tf_train, y_train)\n",
    "pred = classf.predict(x_tf_test)\n",
    "print(\"LinearSVC:\",accuracy_score(y_test, pred))"
   ]
  },
  {
   "cell_type": "markdown",
   "metadata": {},
   "source": [
    "# Burnoulli Naiive Bayes"
   ]
  },
  {
   "cell_type": "markdown",
   "metadata": {},
   "source": [
    "cv ngram"
   ]
  },
  {
   "cell_type": "code",
   "execution_count": 67,
   "metadata": {
    "scrolled": false
   },
   "outputs": [
    {
     "name": "stdout",
     "output_type": "stream",
     "text": [
      "BernoulliNB: 0.8576216341153358\n"
     ]
    }
   ],
   "source": [
    "cv = CountVectorizer(ngram_range = (1,1), stop_words='english')\n",
    "x_cv_train = cv.fit_transform(x_train)\n",
    "x_cv_test = cv.transform(x_test)\n",
    "classf = BernoulliNB()\n",
    "classf.fit(x_cv_train, y_train)\n",
    "pred = classf.predict(x_cv_test)\n",
    "print(\"BernoulliNB:\",accuracy_score(y_test, pred))"
   ]
  },
  {
   "cell_type": "markdown",
   "metadata": {},
   "source": [
    "TF-IDF with ngram"
   ]
  },
  {
   "cell_type": "code",
   "execution_count": 68,
   "metadata": {
    "scrolled": false
   },
   "outputs": [
    {
     "name": "stdout",
     "output_type": "stream",
     "text": [
      "BernoulliNB: 0.8576216341153358\n"
     ]
    }
   ],
   "source": [
    "tf = TfidfVectorizer(ngram_range=(1,1),stop_words='english')\n",
    "x_tf_train = tf.fit_transform(x_train)\n",
    "x_tf_test = tf.transform(x_test)\n",
    "classf = BernoulliNB()\n",
    "classf.fit(x_tf_train, y_train)\n",
    "pred = classf.predict(x_tf_test)\n",
    "print(\"BernoulliNB:\",accuracy_score(y_test, pred))"
   ]
  },
  {
   "cell_type": "markdown",
   "metadata": {},
   "source": [
    "# Logistic"
   ]
  },
  {
   "cell_type": "markdown",
   "metadata": {},
   "source": [
    "cv with ngram"
   ]
  },
  {
   "cell_type": "code",
   "execution_count": 69,
   "metadata": {
    "scrolled": true
   },
   "outputs": [
    {
     "name": "stderr",
     "output_type": "stream",
     "text": [
      "C:\\Users\\Jack\\Anaconda3\\lib\\site-packages\\sklearn\\linear_model\\logistic.py:432: FutureWarning: Default solver will be changed to 'lbfgs' in 0.22. Specify a solver to silence this warning.\n",
      "  FutureWarning)\n"
     ]
    },
    {
     "name": "stdout",
     "output_type": "stream",
     "text": [
      "LogisticRegression: 0.9440656419738819\n"
     ]
    }
   ],
   "source": [
    "cv = CountVectorizer(ngram_range = (1,1), stop_words='english')\n",
    "x_cv_train = cv.fit_transform(x_train)\n",
    "x_cv_test = cv.transform(x_test)\n",
    "classf = LogisticRegression()\n",
    "classf.fit(x_cv_train, y_train)\n",
    "pred = classf.predict(x_cv_test)\n",
    "print(\"LogisticRegression:\",accuracy_score(y_test, pred))"
   ]
  },
  {
   "cell_type": "markdown",
   "metadata": {},
   "source": [
    "TF-IDF with ngram"
   ]
  },
  {
   "cell_type": "code",
   "execution_count": 70,
   "metadata": {},
   "outputs": [
    {
     "name": "stderr",
     "output_type": "stream",
     "text": [
      "C:\\Users\\Jack\\Anaconda3\\lib\\site-packages\\sklearn\\linear_model\\logistic.py:432: FutureWarning: Default solver will be changed to 'lbfgs' in 0.22. Specify a solver to silence this warning.\n",
      "  FutureWarning)\n"
     ]
    },
    {
     "name": "stdout",
     "output_type": "stream",
     "text": [
      "LogisticRegression: 0.9209522708887091\n"
     ]
    }
   ],
   "source": [
    "tf = TfidfVectorizer(ngram_range=(1,1),stop_words='english')\n",
    "x_tf_train = tf.fit_transform(x_train)\n",
    "x_tf_test = tf.transform(x_test)\n",
    "classf = LogisticRegression()\n",
    "classf.fit(x_tf_train, y_train)\n",
    "pred = classf.predict(x_tf_test)\n",
    "print(\"LogisticRegression:\",accuracy_score(y_test, pred))"
   ]
  },
  {
   "cell_type": "markdown",
   "metadata": {
    "scrolled": true
   },
   "source": [
    "# datetime"
   ]
  },
  {
   "cell_type": "code",
   "execution_count": 26,
   "metadata": {},
   "outputs": [],
   "source": [
    "def clean_datetime(string):\n",
    "    results = string.replace(\"T00:00:00Z\",\"\")\n",
    "    return results\n",
    "hotel_df[\"reviews.date\"] = hotel_df[\"reviews.date\"].apply(clean_datetime)\n"
   ]
  },
  {
   "cell_type": "code",
   "execution_count": 80,
   "metadata": {
    "scrolled": true
   },
   "outputs": [
    {
     "data": {
      "image/png": "[encoded data removed]",
      "text/plain": [
       "<Figure size 640x480 with 1 Axes>"
      ]
     },
     "metadata": {},
     "output_type": "display_data"
    },
    {
     "data": {
      "text/plain": [
       "<ggplot: (-9223371910954902180)>"
      ]
     },
     "execution_count": 80,
     "metadata": {},
     "output_type": "execute_result"
    }
   ],
   "source": [
    "from plotnine import *\n",
    "%matplotlib inline\n",
    "\n",
    "ggplot(hotel_df, aes(x='reviews.rating', y='compound')) + geom_point()+theme_bw()"
   ]
  },
  {
   "cell_type": "markdown",
   "metadata": {},
   "source": [
    "# test linear regression assumption"
   ]
  },
  {
   "cell_type": "code",
   "execution_count": 175,
   "metadata": {},
   "outputs": [
    {
     "name": "stderr",
     "output_type": "stream",
     "text": [
      "C:\\Users\\Jack\\Anaconda3\\lib\\site-packages\\ipykernel_launcher.py:2: SettingWithCopyWarning: \n",
      "A value is trying to be set on a copy of a slice from a DataFrame.\n",
      "Try using .loc[row_indexer,col_indexer] = value instead\n",
      "\n",
      "See the caveats in the documentation: http://pandas.pydata.org/pandas-docs/stable/user_guide/indexing.html#returning-a-view-versus-a-copy\n",
      "  \n"
     ]
    },
    {
     "data": {
      "text/html": [
       "<div>\n",
       "<style scoped>\n",
       "    .dataframe tbody tr th:only-of-type {\n",
       "        vertical-align: middle;\n",
       "    }\n",
       "\n",
       "    .dataframe tbody tr th {\n",
       "        vertical-align: top;\n",
       "    }\n",
       "\n",
       "    .dataframe thead th {\n",
       "        text-align: right;\n",
       "    }\n",
       "</style>\n",
       "<table border=\"1\" class=\"dataframe\">\n",
       "  <thead>\n",
       "    <tr style=\"text-align: right;\">\n",
       "      <th></th>\n",
       "      <th>reviews.rating</th>\n",
       "      <th>compound</th>\n",
       "      <th>reviews_rating</th>\n",
       "    </tr>\n",
       "  </thead>\n",
       "  <tbody>\n",
       "    <tr>\n",
       "      <td>0</td>\n",
       "      <td>4.0</td>\n",
       "      <td>0.8299</td>\n",
       "      <td>4.0</td>\n",
       "    </tr>\n",
       "    <tr>\n",
       "      <td>1</td>\n",
       "      <td>5.0</td>\n",
       "      <td>0.9828</td>\n",
       "      <td>5.0</td>\n",
       "    </tr>\n",
       "    <tr>\n",
       "      <td>2</td>\n",
       "      <td>5.0</td>\n",
       "      <td>0.0000</td>\n",
       "      <td>5.0</td>\n",
       "    </tr>\n",
       "    <tr>\n",
       "      <td>3</td>\n",
       "      <td>5.0</td>\n",
       "      <td>0.9643</td>\n",
       "      <td>5.0</td>\n",
       "    </tr>\n",
       "    <tr>\n",
       "      <td>4</td>\n",
       "      <td>5.0</td>\n",
       "      <td>0.9643</td>\n",
       "      <td>5.0</td>\n",
       "    </tr>\n",
       "    <tr>\n",
       "      <td>...</td>\n",
       "      <td>...</td>\n",
       "      <td>...</td>\n",
       "      <td>...</td>\n",
       "    </tr>\n",
       "    <tr>\n",
       "      <td>35905</td>\n",
       "      <td>5.0</td>\n",
       "      <td>0.9813</td>\n",
       "      <td>5.0</td>\n",
       "    </tr>\n",
       "    <tr>\n",
       "      <td>35906</td>\n",
       "      <td>5.0</td>\n",
       "      <td>0.8271</td>\n",
       "      <td>5.0</td>\n",
       "    </tr>\n",
       "    <tr>\n",
       "      <td>35907</td>\n",
       "      <td>5.0</td>\n",
       "      <td>0.9888</td>\n",
       "      <td>5.0</td>\n",
       "    </tr>\n",
       "    <tr>\n",
       "      <td>35908</td>\n",
       "      <td>5.0</td>\n",
       "      <td>0.9759</td>\n",
       "      <td>5.0</td>\n",
       "    </tr>\n",
       "    <tr>\n",
       "      <td>35909</td>\n",
       "      <td>5.0</td>\n",
       "      <td>0.9965</td>\n",
       "      <td>5.0</td>\n",
       "    </tr>\n",
       "  </tbody>\n",
       "</table>\n",
       "<p>34599 rows × 3 columns</p>\n",
       "</div>"
      ],
      "text/plain": [
       "       reviews.rating  compound  reviews_rating\n",
       "0                 4.0    0.8299             4.0\n",
       "1                 5.0    0.9828             5.0\n",
       "2                 5.0    0.0000             5.0\n",
       "3                 5.0    0.9643             5.0\n",
       "4                 5.0    0.9643             5.0\n",
       "...               ...       ...             ...\n",
       "35905             5.0    0.9813             5.0\n",
       "35906             5.0    0.8271             5.0\n",
       "35907             5.0    0.9888             5.0\n",
       "35908             5.0    0.9759             5.0\n",
       "35909             5.0    0.9965             5.0\n",
       "\n",
       "[34599 rows x 3 columns]"
      ]
     },
     "execution_count": 175,
     "metadata": {},
     "output_type": "execute_result"
    }
   ],
   "source": [
    "df = hotel_df[[\"reviews.rating\", \"compound\"]]\n",
    "df[\"reviews_rating\"] = df.loc[:,[\"reviews.rating\"]]\n",
    "df"
   ]
  },
  {
   "cell_type": "code",
   "execution_count": 176,
   "metadata": {
    "scrolled": true
   },
   "outputs": [
    {
     "data": {
      "text/html": [
       "<table class=\"simpletable\">\n",
       "<caption>OLS Regression Results</caption>\n",
       "<tr>\n",
       "  <th>Dep. Variable:</th>     <td>reviews_rating</td>  <th>  R-squared:         </th> <td>   0.288</td> \n",
       "</tr>\n",
       "<tr>\n",
       "  <th>Model:</th>                   <td>OLS</td>       <th>  Adj. R-squared:    </th> <td>   0.288</td> \n",
       "</tr>\n",
       "<tr>\n",
       "  <th>Method:</th>             <td>Least Squares</td>  <th>  F-statistic:       </th> <td>1.401e+04</td>\n",
       "</tr>\n",
       "<tr>\n",
       "  <th>Date:</th>             <td>Thu, 02 Apr 2020</td> <th>  Prob (F-statistic):</th>  <td>  0.00</td>  \n",
       "</tr>\n",
       "<tr>\n",
       "  <th>Time:</th>                 <td>16:46:29</td>     <th>  Log-Likelihood:    </th> <td> -54484.</td> \n",
       "</tr>\n",
       "<tr>\n",
       "  <th>No. Observations:</th>      <td> 34599</td>      <th>  AIC:               </th> <td>1.090e+05</td>\n",
       "</tr>\n",
       "<tr>\n",
       "  <th>Df Residuals:</th>          <td> 34597</td>      <th>  BIC:               </th> <td>1.090e+05</td>\n",
       "</tr>\n",
       "<tr>\n",
       "  <th>Df Model:</th>              <td>     1</td>      <th>                     </th>     <td> </td>    \n",
       "</tr>\n",
       "<tr>\n",
       "  <th>Covariance Type:</th>      <td>nonrobust</td>    <th>                     </th>     <td> </td>    \n",
       "</tr>\n",
       "</table>\n",
       "<table class=\"simpletable\">\n",
       "<tr>\n",
       "      <td></td>         <th>coef</th>     <th>std err</th>      <th>t</th>      <th>P>|t|</th>  <th>[0.025</th>    <th>0.975]</th>  \n",
       "</tr>\n",
       "<tr>\n",
       "  <th>Intercept</th> <td>    3.1632</td> <td>    0.008</td> <td>  381.908</td> <td> 0.000</td> <td>    3.147</td> <td>    3.179</td>\n",
       "</tr>\n",
       "<tr>\n",
       "  <th>compound</th>  <td>    1.3382</td> <td>    0.011</td> <td>  118.354</td> <td> 0.000</td> <td>    1.316</td> <td>    1.360</td>\n",
       "</tr>\n",
       "</table>\n",
       "<table class=\"simpletable\">\n",
       "<tr>\n",
       "  <th>Omnibus:</th>       <td>3229.323</td> <th>  Durbin-Watson:     </th> <td>   1.358</td> \n",
       "</tr>\n",
       "<tr>\n",
       "  <th>Prob(Omnibus):</th>  <td> 0.000</td>  <th>  Jarque-Bera (JB):  </th> <td>17468.096</td>\n",
       "</tr>\n",
       "<tr>\n",
       "  <th>Skew:</th>           <td> 0.289</td>  <th>  Prob(JB):          </th> <td>    0.00</td> \n",
       "</tr>\n",
       "<tr>\n",
       "  <th>Kurtosis:</th>       <td> 6.433</td>  <th>  Cond. No.          </th> <td>    2.34</td> \n",
       "</tr>\n",
       "</table><br/><br/>Warnings:<br/>[1] Standard Errors assume that the covariance matrix of the errors is correctly specified."
      ],
      "text/plain": [
       "<class 'statsmodels.iolib.summary.Summary'>\n",
       "\"\"\"\n",
       "                            OLS Regression Results                            \n",
       "==============================================================================\n",
       "Dep. Variable:         reviews_rating   R-squared:                       0.288\n",
       "Model:                            OLS   Adj. R-squared:                  0.288\n",
       "Method:                 Least Squares   F-statistic:                 1.401e+04\n",
       "Date:                Thu, 02 Apr 2020   Prob (F-statistic):               0.00\n",
       "Time:                        16:46:29   Log-Likelihood:                -54484.\n",
       "No. Observations:               34599   AIC:                         1.090e+05\n",
       "Df Residuals:                   34597   BIC:                         1.090e+05\n",
       "Df Model:                           1                                         \n",
       "Covariance Type:            nonrobust                                         \n",
       "==============================================================================\n",
       "                 coef    std err          t      P>|t|      [0.025      0.975]\n",
       "------------------------------------------------------------------------------\n",
       "Intercept      3.1632      0.008    381.908      0.000       3.147       3.179\n",
       "compound       1.3382      0.011    118.354      0.000       1.316       1.360\n",
       "==============================================================================\n",
       "Omnibus:                     3229.323   Durbin-Watson:                   1.358\n",
       "Prob(Omnibus):                  0.000   Jarque-Bera (JB):            17468.096\n",
       "Skew:                           0.289   Prob(JB):                         0.00\n",
       "Kurtosis:                       6.433   Cond. No.                         2.34\n",
       "==============================================================================\n",
       "\n",
       "Warnings:\n",
       "[1] Standard Errors assume that the covariance matrix of the errors is correctly specified.\n",
       "\"\"\""
      ]
     },
     "execution_count": 176,
     "metadata": {},
     "output_type": "execute_result"
    }
   ],
   "source": [
    "import statsmodels.formula.api as smf\n",
    "reg = smf.ols('reviews_rating ~ compound', data=df).fit()\n",
    "reg.summary()"
   ]
  },
  {
   "cell_type": "markdown",
   "metadata": {},
   "source": [
    "# see correlation"
   ]
  },
  {
   "cell_type": "code",
   "execution_count": null,
   "metadata": {},
   "outputs": [],
   "source": [
    "plotCorrelationMatrix(df1, 8)"
   ]
  },
  {
   "cell_type": "markdown",
   "metadata": {},
   "source": [
    "# Linearity & Equal variance"
   ]
  },
  {
   "cell_type": "markdown",
   "metadata": {},
   "source": [
    "From the below part, it seems random"
   ]
  },
  {
   "cell_type": "code",
   "execution_count": null,
   "metadata": {
    "scrolled": true
   },
   "outputs": [],
   "source": [
    "pred_val = reg.fittedvalues.copy()\n",
    "true_val = df[\"reviews_rating\"].values.copy()\n",
    "residual = true_val - pred_val\n",
    "fig, ax = plt.subplots(figsize=(6,2.5))\n",
    "scatter_plot= ax.scatter(residual, pred_val)"
   ]
  },
  {
   "cell_type": "code",
   "execution_count": 185,
   "metadata": {},
   "outputs": [
    {
     "data": {
      "text/plain": [
       "Ttest_1sampResult(statistic=-1.8010068467411677, pvalue=0.07171050595373127)"
      ]
     },
     "execution_count": 185,
     "metadata": {},
     "output_type": "execute_result"
    }
   ],
   "source": [
    "import statsmodels.stats.api as sms\n",
    "import numpy as np\n",
    "import statsmodels\n",
    "import seaborn as sns\n",
    "from matplotlib import pyplot as plt\n",
    "%matplotlib inline\n",
    "sms.linear_harvey_collier(reg)"
   ]
  },
  {
   "cell_type": "code",
   "execution_count": 186,
   "metadata": {},
   "outputs": [
    {
     "data": {
      "text/plain": [
       "(nan, 1.009381780324e-312)"
      ]
     },
     "execution_count": 186,
     "metadata": {},
     "output_type": "execute_result"
    }
   ],
   "source": [
    "_, pval, __, f_pval = statsmodels.stats.diagnostic.het_breuschpagan(residual, df[['compound']])\n",
    "pval, f_pval"
   ]
  },
  {
   "cell_type": "code",
   "execution_count": 187,
   "metadata": {
    "scrolled": false
   },
   "outputs": [
    {
     "data": {
      "text/plain": [
       "0.94166691392278"
      ]
     },
     "execution_count": 187,
     "metadata": {},
     "output_type": "execute_result"
    },
    {
     "data": {
      "image/png": "[encoded data removed]",
      "text/plain": [
       "<Figure size 432x180 with 1 Axes>"
      ]
     },
     "metadata": {
      "needs_background": "light"
     },
     "output_type": "display_data"
    }
   ],
   "source": [
    "import scipy as sp\n",
    "fig, ax = plt.subplots(figsize=(6,2.5))\n",
    "_, (__, ___, r) = sp.stats.probplot(residual, plot=ax, fit=True)\n",
    "r**2"
   ]
  },
  {
   "cell_type": "markdown",
   "metadata": {},
   "source": [
    "# Exploratory Analysis"
   ]
  },
  {
   "cell_type": "code",
   "execution_count": 149,
   "metadata": {
    "scrolled": true
   },
   "outputs": [
    {
     "data": {
      "image/png": "[encoded data removed]",
      "text/plain": [
       "<Figure size 640x480 with 1 Axes>"
      ]
     },
     "metadata": {},
     "output_type": "display_data"
    },
    {
     "data": {
      "text/plain": [
       "<ggplot: (-9223371845039541572)>"
      ]
     },
     "execution_count": 149,
     "metadata": {},
     "output_type": "execute_result"
    }
   ],
   "source": [
    "ggplot(hotel_df, aes(x = \"language\", fill = 'language')) + \\\n",
    "    geom_bar(stat = 'count')+ \\\n",
    "    theme_bw()"
   ]
  },
  {
   "cell_type": "code",
   "execution_count": 158,
   "metadata": {},
   "outputs": [
    {
     "data": {
      "image/png": "[encoded data removed]",
      "text/plain": [
       "<Figure size 640x480 with 1 Axes>"
      ]
     },
     "metadata": {},
     "output_type": "display_data"
    },
    {
     "data": {
      "text/plain": [
       "<ggplot: (-9223371845051980128)>"
      ]
     },
     "execution_count": 158,
     "metadata": {},
     "output_type": "execute_result"
    }
   ],
   "source": [
    "ggplot(hotel_df, aes(x = \"reviews.rating\")) + \\\n",
    "    geom_bar() + \\\n",
    "    theme_bw() +\\\n",
    "    xlab(\"Reviews Rating\") + \\\n",
    "    ggtitle(\"Distribution of Reviews Rating\")"
   ]
  },
  {
   "cell_type": "code",
   "execution_count": 159,
   "metadata": {},
   "outputs": [
    {
     "data": {
      "image/png": "[encoded data removed]",
      "text/plain": [
       "<Figure size 640x480 with 1 Axes>"
      ]
     },
     "metadata": {},
     "output_type": "display_data"
    },
    {
     "data": {
      "text/plain": [
       "<ggplot: (-9223371845045044724)>"
      ]
     },
     "execution_count": 159,
     "metadata": {},
     "output_type": "execute_result"
    }
   ],
   "source": [
    "ggplot(hotel_df, aes(x = \"Analysis\", y = \"reviews.rating\")) + \\\n",
    "    geom_boxplot() + \\\n",
    "    theme_bw() + \\\n",
    "    ylab(\"Reviews Rating\") + \\\n",
    "    ggtitle(\"Boxplots, Reviews Rating with sentiment tagged\")"
   ]
  },
  {
   "cell_type": "code",
   "execution_count": 160,
   "metadata": {
    "scrolled": true
   },
   "outputs": [
    {
     "data": {
      "image/png": "[encoded data removed]",
      "text/plain": [
       "<Figure size 640x480 with 1 Axes>"
      ]
     },
     "metadata": {},
     "output_type": "display_data"
    },
    {
     "data": {
      "text/plain": [
       "<ggplot: (-9223371845046088500)>"
      ]
     },
     "execution_count": 160,
     "metadata": {},
     "output_type": "execute_result"
    }
   ],
   "source": [
    "ggplot(hotel_df, aes(x = \"Analysis\", y = \"compound\")) + \\\n",
    "    geom_boxplot() + \\\n",
    "    theme_bw() + \\\n",
    "    ylab(\"Compound Score\") + \\\n",
    "    ggtitle(\"Compound Score with sentiment tagged\")"
   ]
  },
  {
   "cell_type": "markdown",
   "metadata": {
    "scrolled": true
   },
   "source": [
    "# vacation analysis"
   ]
  },
  {
   "cell_type": "code",
   "execution_count": 60,
   "metadata": {
    "scrolled": true
   },
   "outputs": [
    {
     "name": "stderr",
     "output_type": "stream",
     "text": [
      "C:\\Users\\Jack\\Anaconda3\\lib\\site-packages\\sklearn\\linear_model\\logistic.py:432: FutureWarning: Default solver will be changed to 'lbfgs' in 0.22. Specify a solver to silence this warning.\n",
      "  FutureWarning)\n",
      "C:\\Users\\Jack\\Anaconda3\\lib\\site-packages\\sklearn\\linear_model\\logistic.py:469: FutureWarning: Default multi_class will be changed to 'auto' in 0.22. Specify the multi_class option to silence this warning.\n",
      "  \"this warning.\", FutureWarning)\n"
     ]
    },
    {
     "data": {
      "text/plain": [
       "LogisticRegression(C=1.0, class_weight=None, dual=False, fit_intercept=True,\n",
       "                   intercept_scaling=1, l1_ratio=None, max_iter=100,\n",
       "                   multi_class='warn', n_jobs=None, penalty='l2',\n",
       "                   random_state=None, solver='warn', tol=0.0001, verbose=0,\n",
       "                   warm_start=False)"
      ]
     },
     "execution_count": 60,
     "metadata": {},
     "output_type": "execute_result"
    }
   ],
   "source": [
    "hotel_df = hotel_df[hotel_df[\"hotel_city\"] != 'Curitiba']\n",
    "statesList = [\"AL\", \"AK\", \"AZ\", \"AR\", \"CA\", \"CO\", \"CT\", \"DC\", \"DE\", \"FL\", \"GA\", \n",
    "          \"HI\", \"ID\", \"IL\", \"IN\", \"IA\", \"KS\", \"KY\", \"LA\", \"ME\", \"MD\", \n",
    "          \"MA\", \"MI\", \"MN\", \"MS\", \"MO\", \"MT\", \"NE\", \"NV\", \"NH\", \"NJ\", \n",
    "          \"NM\", \"NY\", \"NC\", \"ND\", \"OH\", \"OK\", \"OR\", \"PA\", \"RI\", \"SC\", \n",
    "          \"SD\", \"TN\", \"TX\", \"UT\", \"VT\", \"VA\", \"WA\", \"WV\", \"WI\", \"WY\"]\n",
    "cv = CountVectorizer(max_features=5000, ngram_range=(1,2),stop_words='english')\n",
    "X = cv.fit_transform(hotel_df['cleaned_text'])\n",
    "bag_of_words = pd.DataFrame(X.toarray(), columns=cv.get_feature_names())\n",
    "# Join our bag of words back to our initial hotel data\n",
    "full_df = hotel_df.join(bag_of_words)\n",
    "# X is our words\n",
    "X = bag_of_words\n",
    "\n",
    "# Y is our hotel name (the outcome we care about)\n",
    "Y_hotel = hotel_df['hotel_name']\n",
    "LogR = LogisticRegression()\n",
    "\n",
    "# Fit that random forest model to our data\n",
    "LogR.fit(X,Y_hotel)\n",
    "\n"
   ]
  },
  {
   "cell_type": "code",
   "execution_count": 112,
   "metadata": {},
   "outputs": [
    {
     "data": {
      "text/html": [
       "<div>\n",
       "<style scoped>\n",
       "    .dataframe tbody tr th:only-of-type {\n",
       "        vertical-align: middle;\n",
       "    }\n",
       "\n",
       "    .dataframe tbody tr th {\n",
       "        vertical-align: top;\n",
       "    }\n",
       "\n",
       "    .dataframe thead th {\n",
       "        text-align: right;\n",
       "    }\n",
       "</style>\n",
       "<table border=\"1\" class=\"dataframe\">\n",
       "  <thead>\n",
       "    <tr style=\"text-align: right;\">\n",
       "      <th></th>\n",
       "      <th>hotel_name</th>\n",
       "      <th>hotel_address</th>\n",
       "      <th>hotel_city</th>\n",
       "      <th>hotel_country</th>\n",
       "    </tr>\n",
       "  </thead>\n",
       "  <tbody>\n",
       "    <tr>\n",
       "      <td>30361</td>\n",
       "      <td>La Quinta Inn Auburn Worcester</td>\n",
       "      <td>446 Southbridge St</td>\n",
       "      <td>Auburn</td>\n",
       "      <td>US</td>\n",
       "    </tr>\n",
       "  </tbody>\n",
       "</table>\n",
       "</div>"
      ],
      "text/plain": [
       "                           hotel_name       hotel_address hotel_city  \\\n",
       "30361  La Quinta Inn Auburn Worcester  446 Southbridge St     Auburn   \n",
       "\n",
       "      hotel_country  \n",
       "30361            US  "
      ]
     },
     "execution_count": 112,
     "metadata": {},
     "output_type": "execute_result"
    }
   ],
   "source": [
    "# wrtie your onw dream hotel\n",
    "# test_review from friend_1\n",
    "test_review = ['''\n",
    "    As long as the room is clean, I like to live in a hotel with breakfast and have a comfortable bed to enjoy sleeping. \n",
    "    \n",
    "    ''']\n",
    "# Convert your test review into a vector\n",
    "X_test = vectorizer.transform(test_review).toarray()\n",
    "#Match your review\n",
    "prediction = LogR.predict(X_test)[0]\n",
    "# Return the essential information about your match\n",
    "hotel_df[hotel_df['hotel_name'] == prediction][['hotel_name', 'hotel_address', \n",
    "                                        'hotel_city', 'hotel_country']].head(1)"
   ]
  },
  {
   "cell_type": "code",
   "execution_count": 104,
   "metadata": {
    "scrolled": true
   },
   "outputs": [
    {
     "data": {
      "text/html": [
       "<div>\n",
       "<style scoped>\n",
       "    .dataframe tbody tr th:only-of-type {\n",
       "        vertical-align: middle;\n",
       "    }\n",
       "\n",
       "    .dataframe tbody tr th {\n",
       "        vertical-align: top;\n",
       "    }\n",
       "\n",
       "    .dataframe thead th {\n",
       "        text-align: right;\n",
       "    }\n",
       "</style>\n",
       "<table border=\"1\" class=\"dataframe\">\n",
       "  <thead>\n",
       "    <tr style=\"text-align: right;\">\n",
       "      <th></th>\n",
       "      <th>hotel_name</th>\n",
       "      <th>hotel_address</th>\n",
       "      <th>hotel_city</th>\n",
       "      <th>hotel_country</th>\n",
       "    </tr>\n",
       "  </thead>\n",
       "  <tbody>\n",
       "    <tr>\n",
       "      <td>19100</td>\n",
       "      <td>Country Inn and Suites By Carlson Galena</td>\n",
       "      <td>11334 Oldenburg Ln</td>\n",
       "      <td>Galena</td>\n",
       "      <td>US</td>\n",
       "    </tr>\n",
       "  </tbody>\n",
       "</table>\n",
       "</div>"
      ],
      "text/plain": [
       "                                     hotel_name       hotel_address  \\\n",
       "19100  Country Inn and Suites By Carlson Galena  11334 Oldenburg Ln   \n",
       "\n",
       "      hotel_city hotel_country  \n",
       "19100     Galena            US  "
      ]
     },
     "execution_count": 104,
     "metadata": {},
     "output_type": "execute_result"
    }
   ],
   "source": [
    "# wrtie your onw dream hotel\n",
    "# test_review from my friend_2.\n",
    "test_review = ['''\n",
    "I usually choose a hotel with relatively good comfort and hygienic conditions because I feel that I need to live in a comfortable place that makes me happy when I go out to play. \n",
    "This way you can relax during the journey and maintain a happy mood.\n",
    "I would like to choose a hotel located nearby a subway with a reasonable price.\n",
    "''']\n",
    "# Convert your test review into a vector\n",
    "X_test = vectorizer.transform(test_review).toarray()\n",
    "#Match your review\n",
    "prediction = LogR.predict(X_test)[0]\n",
    "# Return the essential information about your match\n",
    "hotel_df[hotel_df['hotel_name'] == prediction][['hotel_name', 'hotel_address', \n",
    "                                        'hotel_city', 'hotel_country']].head(1)"
   ]
  },
  {
   "cell_type": "code",
   "execution_count": 116,
   "metadata": {},
   "outputs": [
    {
     "data": {
      "text/html": [
       "<div>\n",
       "<style scoped>\n",
       "    .dataframe tbody tr th:only-of-type {\n",
       "        vertical-align: middle;\n",
       "    }\n",
       "\n",
       "    .dataframe tbody tr th {\n",
       "        vertical-align: top;\n",
       "    }\n",
       "\n",
       "    .dataframe thead th {\n",
       "        text-align: right;\n",
       "    }\n",
       "</style>\n",
       "<table border=\"1\" class=\"dataframe\">\n",
       "  <thead>\n",
       "    <tr style=\"text-align: right;\">\n",
       "      <th></th>\n",
       "      <th>hotel_name</th>\n",
       "      <th>hotel_address</th>\n",
       "      <th>hotel_city</th>\n",
       "      <th>hotel_country</th>\n",
       "    </tr>\n",
       "  </thead>\n",
       "  <tbody>\n",
       "    <tr>\n",
       "      <td>27072</td>\n",
       "      <td>Hampton Inn Virginia Beach Oceanfront North</td>\n",
       "      <td>3107 Atlantic Ave</td>\n",
       "      <td>Virginia Beach</td>\n",
       "      <td>US</td>\n",
       "    </tr>\n",
       "  </tbody>\n",
       "</table>\n",
       "</div>"
      ],
      "text/plain": [
       "                                        hotel_name      hotel_address  \\\n",
       "27072  Hampton Inn Virginia Beach Oceanfront North  3107 Atlantic Ave   \n",
       "\n",
       "           hotel_city hotel_country  \n",
       "27072  Virginia Beach            US  "
      ]
     },
     "execution_count": 116,
     "metadata": {},
     "output_type": "execute_result"
    }
   ],
   "source": [
    "# wrtie your onw dream hotel\n",
    "# test_review from my friend_3.\n",
    "test_review = ['''\n",
    "I want to live at the very top floor and I can see all the views, I need a quiet environment\n",
    "''']\n",
    "# Convert your test review into a vector\n",
    "X_test = vectorizer.transform(test_review).toarray()\n",
    "#Match your review\n",
    "prediction = LogR.predict(X_test)[0]\n",
    "# Return the essential information about your match\n",
    "hotel_df[hotel_df['hotel_name'] == prediction][['hotel_name', 'hotel_address', \n",
    "                                        'hotel_city', 'hotel_country']].head(1)"
   ]
  },
  {
   "cell_type": "markdown",
   "metadata": {},
   "source": [
    "# Set Up Machine learning alothrims to predict hotel ratings"
   ]
  },
  {
   "cell_type": "code",
   "execution_count": 71,
   "metadata": {},
   "outputs": [],
   "source": [
    "#split data first\n",
    "run_ML = hotel_df.loc[:,[\"reviews.rating\", \"cleaned_text\"]]\n",
    "x_train, x_test, y_train, y_test = train_test_split(run_ML[\"cleaned_text\"], run_ML[\"reviews.rating\"], test_size=0.25, random_state = 42)"
   ]
  },
  {
   "cell_type": "markdown",
   "metadata": {},
   "source": [
    "# Logistic"
   ]
  },
  {
   "cell_type": "markdown",
   "metadata": {},
   "source": [
    "Logistic CV ngram(1,2) "
   ]
  },
  {
   "cell_type": "code",
   "execution_count": 72,
   "metadata": {
    "scrolled": true
   },
   "outputs": [
    {
     "name": "stderr",
     "output_type": "stream",
     "text": [
      "C:\\Users\\Jack\\Anaconda3\\lib\\site-packages\\sklearn\\linear_model\\logistic.py:432: FutureWarning: Default solver will be changed to 'lbfgs' in 0.22. Specify a solver to silence this warning.\n",
      "  FutureWarning)\n",
      "C:\\Users\\Jack\\Anaconda3\\lib\\site-packages\\sklearn\\linear_model\\logistic.py:469: FutureWarning: Default multi_class will be changed to 'auto' in 0.22. Specify the multi_class option to silence this warning.\n",
      "  \"this warning.\", FutureWarning)\n"
     ]
    },
    {
     "name": "stdout",
     "output_type": "stream",
     "text": [
      "LogisticRegression: 0.5216687853923495\n"
     ]
    }
   ],
   "source": [
    "cv = CountVectorizer(ngram_range = (1,2), stop_words='english')\n",
    "x_cv_train = cv.fit_transform(x_train)\n",
    "x_cv_test = cv.transform(x_test)\n",
    "classf = LogisticRegression()\n",
    "classf.fit(x_cv_train, y_train)\n",
    "pred = classf.predict(x_cv_test)\n",
    "print(\"LogisticRegression:\",accuracy_score(y_test, pred))"
   ]
  },
  {
   "cell_type": "markdown",
   "metadata": {},
   "source": [
    "Logistic tf-idf with ngram 1,2"
   ]
  },
  {
   "cell_type": "code",
   "execution_count": 73,
   "metadata": {},
   "outputs": [
    {
     "name": "stderr",
     "output_type": "stream",
     "text": [
      "C:\\Users\\Jack\\Anaconda3\\lib\\site-packages\\sklearn\\linear_model\\logistic.py:432: FutureWarning: Default solver will be changed to 'lbfgs' in 0.22. Specify a solver to silence this warning.\n",
      "  FutureWarning)\n",
      "C:\\Users\\Jack\\Anaconda3\\lib\\site-packages\\sklearn\\linear_model\\logistic.py:469: FutureWarning: Default multi_class will be changed to 'auto' in 0.22. Specify the multi_class option to silence this warning.\n",
      "  \"this warning.\", FutureWarning)\n"
     ]
    },
    {
     "name": "stdout",
     "output_type": "stream",
     "text": [
      "Logistic Regression: 0.5335721715012135\n"
     ]
    }
   ],
   "source": [
    "tf = TfidfVectorizer(ngram_range=(1,2),stop_words='english')\n",
    "x_tf_train = tf.fit_transform(x_train)\n",
    "x_tf_test = tf.transform(x_test)\n",
    "classf = LogisticRegression()\n",
    "classf.fit(x_tf_train, y_train)\n",
    "pred = classf.predict(x_tf_test)\n",
    "print(\"Logistic Regression:\",accuracy_score(y_test, pred))"
   ]
  },
  {
   "cell_type": "markdown",
   "metadata": {},
   "source": [
    "# Linear support vector machine"
   ]
  },
  {
   "cell_type": "markdown",
   "metadata": {},
   "source": [
    "CV with ngram"
   ]
  },
  {
   "cell_type": "code",
   "execution_count": 74,
   "metadata": {
    "scrolled": true
   },
   "outputs": [
    {
     "name": "stdout",
     "output_type": "stream",
     "text": [
      "LinearSVC: 0.48341615624638856\n"
     ]
    },
    {
     "name": "stderr",
     "output_type": "stream",
     "text": [
      "C:\\Users\\Jack\\Anaconda3\\lib\\site-packages\\sklearn\\svm\\base.py:929: ConvergenceWarning: Liblinear failed to converge, increase the number of iterations.\n",
      "  \"the number of iterations.\", ConvergenceWarning)\n"
     ]
    }
   ],
   "source": [
    "cv = CountVectorizer(ngram_range = (1,2), stop_words='english')\n",
    "x_cv_train = cv.fit_transform(x_train)\n",
    "x_cv_test = cv.transform(x_test)\n",
    "classf = LinearSVC()\n",
    "classf.fit(x_cv_train, y_train)\n",
    "pred = classf.predict(x_cv_test)\n",
    "print(\"LinearSVC:\",accuracy_score(y_test, pred))"
   ]
  },
  {
   "cell_type": "markdown",
   "metadata": {},
   "source": [
    "tf-idf with ngram"
   ]
  },
  {
   "cell_type": "code",
   "execution_count": 75,
   "metadata": {
    "scrolled": false
   },
   "outputs": [
    {
     "name": "stdout",
     "output_type": "stream",
     "text": [
      "LinearSVC: 0.5147347740667977\n"
     ]
    }
   ],
   "source": [
    "tf = TfidfVectorizer(ngram_range=(1,2),stop_words='english')\n",
    "x_tf_train = tf.fit_transform(x_train)\n",
    "x_tf_test = tf.transform(x_test)\n",
    "classf = LinearSVC()\n",
    "classf.fit(x_tf_train, y_train)\n",
    "pred = classf.predict(x_tf_test)\n",
    "print(\"LinearSVC:\",accuracy_score(y_test, pred))"
   ]
  },
  {
   "cell_type": "markdown",
   "metadata": {},
   "source": [
    "# Random Forest"
   ]
  },
  {
   "cell_type": "markdown",
   "metadata": {},
   "source": [
    "CV with ngram"
   ]
  },
  {
   "cell_type": "code",
   "execution_count": 76,
   "metadata": {},
   "outputs": [
    {
     "name": "stderr",
     "output_type": "stream",
     "text": [
      "C:\\Users\\Jack\\Anaconda3\\lib\\site-packages\\sklearn\\ensemble\\forest.py:245: FutureWarning: The default value of n_estimators will change from 10 in version 0.20 to 100 in 0.22.\n",
      "  \"10 in version 0.20 to 100 in 0.22.\", FutureWarning)\n"
     ]
    },
    {
     "name": "stdout",
     "output_type": "stream",
     "text": [
      "RandomForestClassifier: 0.45556454408875535\n"
     ]
    }
   ],
   "source": [
    "cv = CountVectorizer(ngram_range = (1,2), stop_words='english')\n",
    "x_cv_train = cv.fit_transform(x_train)\n",
    "x_cv_test = cv.transform(x_test)\n",
    "classf = RandomForestClassifier(criterion=\"entropy\")\n",
    "classf.fit(x_cv_train, y_train)\n",
    "pred = classf.predict(x_cv_test)\n",
    "print(\"RandomForestClassifier:\",accuracy_score(y_test, pred))"
   ]
  },
  {
   "cell_type": "markdown",
   "metadata": {},
   "source": [
    "tf-idf with ngram"
   ]
  },
  {
   "cell_type": "code",
   "execution_count": 77,
   "metadata": {},
   "outputs": [
    {
     "name": "stderr",
     "output_type": "stream",
     "text": [
      "C:\\Users\\Jack\\Anaconda3\\lib\\site-packages\\sklearn\\ensemble\\forest.py:245: FutureWarning: The default value of n_estimators will change from 10 in version 0.20 to 100 in 0.22.\n",
      "  \"10 in version 0.20 to 100 in 0.22.\", FutureWarning)\n"
     ]
    },
    {
     "name": "stdout",
     "output_type": "stream",
     "text": [
      "RandomForestClassifier: 0.4437767248353172\n"
     ]
    }
   ],
   "source": [
    "tf = TfidfVectorizer(ngram_range=(1,2),stop_words='english')\n",
    "x_tf_train = tf.fit_transform(x_train)\n",
    "x_tf_test = tf.transform(x_test)\n",
    "classf = RandomForestClassifier(criterion=\"entropy\")\n",
    "classf.fit(x_tf_train, y_train)\n",
    "pred = classf.predict(x_tf_test)\n",
    "print(\"RandomForestClassifier:\",accuracy_score(y_test, pred))"
   ]
  },
  {
   "cell_type": "markdown",
   "metadata": {},
   "source": [
    "# Bernoulli NB"
   ]
  },
  {
   "cell_type": "markdown",
   "metadata": {},
   "source": [
    "CV with ngram"
   ]
  },
  {
   "cell_type": "code",
   "execution_count": 78,
   "metadata": {},
   "outputs": [
    {
     "name": "stdout",
     "output_type": "stream",
     "text": [
      "BernoulliNB: 0.4088755344967063\n"
     ]
    }
   ],
   "source": [
    "cv = CountVectorizer(ngram_range = (1,2), stop_words='english')\n",
    "x_cv_train = cv.fit_transform(x_train)\n",
    "x_cv_test = cv.transform(x_test)\n",
    "classf = BernoulliNB()\n",
    "classf.fit(x_cv_train, y_train)\n",
    "pred = classf.predict(x_cv_test)\n",
    "print(\"BernoulliNB:\",accuracy_score(y_test, pred))"
   ]
  },
  {
   "cell_type": "markdown",
   "metadata": {},
   "source": [
    "TF-IDF with ngram"
   ]
  },
  {
   "cell_type": "code",
   "execution_count": 79,
   "metadata": {
    "scrolled": true
   },
   "outputs": [
    {
     "name": "stdout",
     "output_type": "stream",
     "text": [
      "BernoulliNB: 0.49659077776493704\n"
     ]
    }
   ],
   "source": [
    "tf = TfidfVectorizer(ngram_range=(1,1),stop_words='english')\n",
    "x_tf_train = tf.fit_transform(x_train)\n",
    "x_tf_test = tf.transform(x_test)\n",
    "classf = BernoulliNB()\n",
    "classf.fit(x_tf_train, y_train)\n",
    "pred = classf.predict(x_tf_test)\n",
    "print(\"BernoulliNB:\",accuracy_score(y_test, pred))"
   ]
  },
  {
   "cell_type": "markdown",
   "metadata": {},
   "source": [
    "# Language detect needs time to run"
   ]
  },
  {
   "cell_type": "markdown",
   "metadata": {},
   "source": [
    "Compared whether there will be an improvement, after I performed language detect to exlcude non English words.\n",
    "\n",
    "Start from sentiment analysis, run again. Go through each machine learning algorithms.\n",
    "\n",
    "Also, start from hotel rating part, run again. Go through each machine learning algorithms.\n",
    "\n",
    "I will compared accuracy of different machine learning algorithms in report."
   ]
  },
  {
   "cell_type": "code",
   "execution_count": 61,
   "metadata": {},
   "outputs": [
    {
     "name": "stderr",
     "output_type": "stream",
     "text": [
      "C:\\Users\\Jack\\Anaconda3\\lib\\site-packages\\ipykernel_launcher.py:1: SettingWithCopyWarning: \n",
      "A value is trying to be set on a copy of a slice from a DataFrame.\n",
      "Try using .loc[row_indexer,col_indexer] = value instead\n",
      "\n",
      "See the caveats in the documentation: http://pandas.pydata.org/pandas-docs/stable/user_guide/indexing.html#returning-a-view-versus-a-copy\n",
      "  \"\"\"Entry point for launching an IPython kernel.\n",
      "C:\\Users\\Jack\\Anaconda3\\lib\\site-packages\\ipykernel_launcher.py:2: SettingWithCopyWarning: \n",
      "A value is trying to be set on a copy of a slice from a DataFrame.\n",
      "Try using .loc[row_indexer,col_indexer] = value instead\n",
      "\n",
      "See the caveats in the documentation: http://pandas.pydata.org/pandas-docs/stable/user_guide/indexing.html#returning-a-view-versus-a-copy\n",
      "  \n"
     ]
    }
   ],
   "source": [
    "hotel_df[\"language\"] = hotel_df[\"reviews.text\"].apply(detect)\n",
    "hotel_df[\"language\"]= hotel_df[hotel_df['language']=='en']"
   ]
  }
 ],
 "metadata": {
  "kernelspec": {
   "display_name": "Python 3",
   "language": "python",
   "name": "python3"
  },
  "language_info": {
   "codemirror_mode": {
    "name": "ipython",
    "version": 3
   },
   "file_extension": ".py",
   "mimetype": "text/x-python",
   "name": "python",
   "nbconvert_exporter": "python",
   "pygments_lexer": "ipython3",
   "version": "3.7.4"
  }
 },
 "nbformat": 4,
 "nbformat_minor": 2
}
