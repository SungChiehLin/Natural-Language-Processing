{
 "cells": [
  {
   "cell_type": "markdown",
   "metadata": {},
   "source": [
    "# Load data"
   ]
  },
  {
   "cell_type": "code",
   "execution_count": 1,
   "metadata": {},
   "outputs": [],
   "source": [
    "import pandas as pd\n",
    "import nltk \n",
    "import re\n",
    "import string\n",
    "import numpy as np\n",
    "from textblob import TextBlob\n",
    "from wordcloud import WordCloud\n",
    "import matplotlib.pyplot as plt\n",
    "from sklearn.feature_extraction.text import CountVectorizer, TfidfVectorizer\n",
    "from sklearn.model_selection import train_test_split\n",
    "from sklearn.svm import LinearSVC, SVC\n",
    "from sklearn.linear_model import LogisticRegression\n",
    "from sklearn.metrics import accuracy_score\n",
    "from sklearn.metrics import classification_report, confusion_matrix\n",
    "from sklearn.ensemble import RandomForestClassifier\n",
    "from sklearn.tree import DecisionTreeRegressor\n",
    "from langdetect import detect"
   ]
  },
  {
   "cell_type": "code",
   "execution_count": 2,
   "metadata": {
    "scrolled": true
   },
   "outputs": [],
   "source": [
    "# load data\n",
    "hotel_df = pd.read_csv(\"7282_1.csv\")\n",
    "\n",
    "# some hundred ratings are above 5, so filter out below five & include five\n",
    "hotel_df = hotel_df[hotel_df[\"reviews.rating\"] <= 5]\n",
    "\n",
    "# still have dicimal rating, so I round up\n",
    "hotel_df[\"reviews.rating\"] = round(hotel_df[\"reviews.rating\"])\n",
    "\n",
    "# drop not useful column\n",
    "hotel_df=hotel_df.drop([\"reviews.doRecommend\",\"reviews.id\"], axis=1)\n",
    "\n",
    "# rename becasue it is easy to do study\n",
    "hotel_df.rename(columns={'address': 'hotel_address', 'city': 'hotel_city',\n",
    "                     'country':'hotel_country', 'name':'hotel_name'},\n",
    "            inplace=True)\n",
    "\n",
    "# pick the column that I will use.\n",
    "hotel_df = hotel_df.loc[:,[\"province\",\"reviews.date\",\"hotel_address\",\"hotel_city\",\"hotel_country\",\"hotel_name\",\"reviews.rating\",\"reviews.text\"]]\n",
    "\n",
    "# shuffle the data.\n",
    "hotel_df = hotel_df.reindex(np.random.permutation(hotel_df.index)) \n"
   ]
  },
  {
   "cell_type": "code",
   "execution_count": 3,
   "metadata": {
    "scrolled": true
   },
   "outputs": [
    {
     "data": {
      "text/plain": [
       "793"
      ]
     },
     "execution_count": 3,
     "metadata": {},
     "output_type": "execute_result"
    }
   ],
   "source": [
    "#total number of unique hotels\n",
    "len(hotel_df.hotel_name.unique())"
   ]
  },
  {
   "cell_type": "markdown",
   "metadata": {},
   "source": [
    "# Check Missing Value"
   ]
  },
  {
   "cell_type": "code",
   "execution_count": 4,
   "metadata": {
    "scrolled": false
   },
   "outputs": [
    {
     "data": {
      "text/plain": [
       "province            0\n",
       "reviews.date      259\n",
       "hotel_address       0\n",
       "hotel_city          0\n",
       "hotel_country       0\n",
       "hotel_name          0\n",
       "reviews.rating      0\n",
       "reviews.text       22\n",
       "dtype: int64"
      ]
     },
     "execution_count": 4,
     "metadata": {},
     "output_type": "execute_result"
    }
   ],
   "source": [
    "# Check the missing value\n",
    "hotel_df.isnull().sum()"
   ]
  },
  {
   "cell_type": "markdown",
   "metadata": {},
   "source": [
    "# Preprocessing data"
   ]
  },
  {
   "cell_type": "code",
   "execution_count": 5,
   "metadata": {},
   "outputs": [],
   "source": [
    "hotel_df[\"reviews.text\"] = hotel_df.loc[:,\"reviews.text\"].replace(\"xxxxxxxxxxxxxxxxxxxxxxxxxxxxxxxxxxxxxxxxxx\", float(\"NaN\"))\n",
    "hotel_df= hotel_df.dropna(subset = [\"reviews.text\",\"province\",\"reviews.date\", \"reviews.rating\"], how = \"any\")\n",
    "wn = nltk.WordNetLemmatizer()\n",
    "stopwords = nltk.corpus.stopwords.words('english')\n",
    "def cleaning_text(corpus):\n",
    "    corpus = re.sub(\"#\", \"\", corpus)\n",
    "    corpus = re.sub(\"@\", \"\", corpus)\n",
    "    corpus = re.sub(\"http?:\\/\\/\\S+\",\"\",corpus)\n",
    "    corpus = re.sub(\"n't\", \" not\", corpus)\n",
    "    corpus = re.sub(\"'ll\", \" will\", corpus)\n",
    "    corpus = re.sub(\"'s\", \" is\", corpus)\n",
    "    corpus = re.sub(\"'re\", \" are\", corpus)\n",
    "    corpus = re.sub(\"'m\", \" am\", corpus)\n",
    "    corpus = re.sub(\"�\", \"\", corpus)\n",
    "    corpus = corpus.lower()\n",
    "    \n",
    "    no_str_punc_corpus = \"\".join([word for word in corpus if word not in string.punctuation])\n",
    "    cleaned_text = []\n",
    "    for word in corpus.split():\n",
    "        if word not in stopwords:\n",
    "            if re.match(\"[a-zA-Z]+\", word):\n",
    "                cleaned_text.append(word)\n",
    "    sentences = \" \".join([word for word in cleaned_text])\n",
    "    \n",
    "    return sentences        "
   ]
  },
  {
   "cell_type": "code",
   "execution_count": 6,
   "metadata": {
    "scrolled": true
   },
   "outputs": [],
   "source": [
    "hotel_df[\"cleaned_text\"] = hotel_df['reviews.text'].apply(lambda x: cleaning_text(x))"
   ]
  },
  {
   "cell_type": "code",
   "execution_count": 7,
   "metadata": {
    "scrolled": true
   },
   "outputs": [
    {
     "data": {
      "text/plain": [
       "province          0\n",
       "reviews.date      0\n",
       "hotel_address     0\n",
       "hotel_city        0\n",
       "hotel_country     0\n",
       "hotel_name        0\n",
       "reviews.rating    0\n",
       "reviews.text      0\n",
       "cleaned_text      0\n",
       "dtype: int64"
      ]
     },
     "execution_count": 7,
     "metadata": {},
     "output_type": "execute_result"
    }
   ],
   "source": [
    "hotel_df[\"cleaned_text\"] = hotel_df[\"cleaned_text\"].replace(\"\",float(\"NaN\"))\n",
    "hotel_df[\"cleaned_text\"] = hotel_df[\"cleaned_text\"].replace(\". .\", float(\"NaN\"))\n",
    "hotel_df= hotel_df.dropna(subset = [\"cleaned_text\"], how = \"any\")\n",
    "hotel_df.isnull().sum()"
   ]
  },
  {
   "cell_type": "code",
   "execution_count": 162,
   "metadata": {},
   "outputs": [],
   "source": [
    "hotel_df[\"language\"] = hotel_df[\"cleaned_text\"].apply(detect)\n",
    "hotel_df = hotel_df[hotel_df['language']=='en']"
   ]
  },
  {
   "cell_type": "markdown",
   "metadata": {},
   "source": [
    "# Sentiment Analysis"
   ]
  },
  {
   "cell_type": "code",
   "execution_count": 49,
   "metadata": {},
   "outputs": [],
   "source": [
    "from vaderSentiment.vaderSentiment import SentimentIntensityAnalyzer\n",
    "analyzer = SentimentIntensityAnalyzer()\n",
    "sentiment = hotel_df['reviews.text'].apply(lambda x: analyzer.polarity_scores(x))\n",
    "hotel_df = pd.concat([hotel_df,sentiment.apply(pd.Series)],1)"
   ]
  },
  {
   "cell_type": "code",
   "execution_count": 52,
   "metadata": {
    "scrolled": true
   },
   "outputs": [],
   "source": [
    "def output(compound_score):\n",
    "    if compound_score >= 0.05:\n",
    "        return 'Positive'\n",
    "    else:\n",
    "        return 'Negative'\n",
    "    \n",
    "hotel_df[\"Analysis\"] = hotel_df[\"compound\"].apply(output)"
   ]
  },
  {
   "cell_type": "code",
   "execution_count": 54,
   "metadata": {},
   "outputs": [
    {
     "name": "stdout",
     "output_type": "stream",
     "text": [
      "Number of Positve tagged sentences is:  26011\n",
      "Number of Negative tagged sentences is: 8599\n",
      "Total length of the data is:          34610\n"
     ]
    }
   ],
   "source": [
    "print('Number of Positve tagged sentences is:  {}'.format(len(hotel_df[hotel_df[\"Analysis\"]=='Positive'])))\n",
    "print('Number of Negative tagged sentences is: {}'.format(len(hotel_df[hotel_df[\"Analysis\"]=='Negative'])))\n",
    "print('Total length of the data is:          {}'.format(hotel_df.shape[0]))"
   ]
  },
  {
   "cell_type": "markdown",
   "metadata": {
    "scrolled": true
   },
   "source": [
    "# datetime"
   ]
  },
  {
   "cell_type": "code",
   "execution_count": 163,
   "metadata": {},
   "outputs": [],
   "source": [
    "def clean_datetime(string):\n",
    "    results = string.replace(\"T00:00:00Z\",\"\")\n",
    "    return results\n",
    "hotel_df[\"reviews.date\"] = hotel_df[\"reviews.date\"].apply(clean_datetime)\n"
   ]
  },
  {
   "cell_type": "code",
   "execution_count": 69,
   "metadata": {
    "scrolled": false
   },
   "outputs": [
    {
     "data": {
      "image/png": "[encoded data removed]",
      "text/plain": [
       "<Figure size 720x360 with 1 Axes>"
      ]
     },
     "metadata": {
      "needs_background": "light"
     },
     "output_type": "display_data"
    }
   ],
   "source": [
    "import seaborn as sns\n",
    "fig = plt.figure(figsize=(10,5))\n",
    "ax = fig.add_subplot(111)\n",
    "sns.distplot(hotel_df['compound'], bins=15, ax=ax)\n",
    "plt.show()"
   ]
  },
  {
   "cell_type": "code",
   "execution_count": null,
   "metadata": {},
   "outputs": [],
   "source": []
  },
  {
   "cell_type": "code",
   "execution_count": 161,
   "metadata": {
    "scrolled": true
   },
   "outputs": [
    {
     "data": {
      "image/png": "[encoded data removed]",
      "text/plain": [
       "<Figure size 640x480 with 1 Axes>"
      ]
     },
     "metadata": {},
     "output_type": "display_data"
    },
    {
     "data": {
      "text/plain": [
       "<ggplot: (-9223371845045040788)>"
      ]
     },
     "execution_count": 161,
     "metadata": {},
     "output_type": "execute_result"
    }
   ],
   "source": [
    "from plotnine import *\n",
    "%matplotlib inline\n",
    "\n",
    "ggplot(hotel_df, aes(x='reviews.rating', y='compound')) + geom_point()+theme_bw()"
   ]
  },
  {
   "cell_type": "markdown",
   "metadata": {},
   "source": [
    "# test linear regression assumption"
   ]
  },
  {
   "cell_type": "code",
   "execution_count": 175,
   "metadata": {},
   "outputs": [
    {
     "name": "stderr",
     "output_type": "stream",
     "text": [
      "C:\\Users\\Jack\\Anaconda3\\lib\\site-packages\\ipykernel_launcher.py:2: SettingWithCopyWarning: \n",
      "A value is trying to be set on a copy of a slice from a DataFrame.\n",
      "Try using .loc[row_indexer,col_indexer] = value instead\n",
      "\n",
      "See the caveats in the documentation: http://pandas.pydata.org/pandas-docs/stable/user_guide/indexing.html#returning-a-view-versus-a-copy\n",
      "  \n"
     ]
    },
    {
     "data": {
      "text/html": [
       "<div>\n",
       "<style scoped>\n",
       "    .dataframe tbody tr th:only-of-type {\n",
       "        vertical-align: middle;\n",
       "    }\n",
       "\n",
       "    .dataframe tbody tr th {\n",
       "        vertical-align: top;\n",
       "    }\n",
       "\n",
       "    .dataframe thead th {\n",
       "        text-align: right;\n",
       "    }\n",
       "</style>\n",
       "<table border=\"1\" class=\"dataframe\">\n",
       "  <thead>\n",
       "    <tr style=\"text-align: right;\">\n",
       "      <th></th>\n",
       "      <th>reviews.rating</th>\n",
       "      <th>compound</th>\n",
       "      <th>reviews_rating</th>\n",
       "    </tr>\n",
       "  </thead>\n",
       "  <tbody>\n",
       "    <tr>\n",
       "      <td>0</td>\n",
       "      <td>4.0</td>\n",
       "      <td>0.8299</td>\n",
       "      <td>4.0</td>\n",
       "    </tr>\n",
       "    <tr>\n",
       "      <td>1</td>\n",
       "      <td>5.0</td>\n",
       "      <td>0.9828</td>\n",
       "      <td>5.0</td>\n",
       "    </tr>\n",
       "    <tr>\n",
       "      <td>2</td>\n",
       "      <td>5.0</td>\n",
       "      <td>0.0000</td>\n",
       "      <td>5.0</td>\n",
       "    </tr>\n",
       "    <tr>\n",
       "      <td>3</td>\n",
       "      <td>5.0</td>\n",
       "      <td>0.9643</td>\n",
       "      <td>5.0</td>\n",
       "    </tr>\n",
       "    <tr>\n",
       "      <td>4</td>\n",
       "      <td>5.0</td>\n",
       "      <td>0.9643</td>\n",
       "      <td>5.0</td>\n",
       "    </tr>\n",
       "    <tr>\n",
       "      <td>...</td>\n",
       "      <td>...</td>\n",
       "      <td>...</td>\n",
       "      <td>...</td>\n",
       "    </tr>\n",
       "    <tr>\n",
       "      <td>35905</td>\n",
       "      <td>5.0</td>\n",
       "      <td>0.9813</td>\n",
       "      <td>5.0</td>\n",
       "    </tr>\n",
       "    <tr>\n",
       "      <td>35906</td>\n",
       "      <td>5.0</td>\n",
       "      <td>0.8271</td>\n",
       "      <td>5.0</td>\n",
       "    </tr>\n",
       "    <tr>\n",
       "      <td>35907</td>\n",
       "      <td>5.0</td>\n",
       "      <td>0.9888</td>\n",
       "      <td>5.0</td>\n",
       "    </tr>\n",
       "    <tr>\n",
       "      <td>35908</td>\n",
       "      <td>5.0</td>\n",
       "      <td>0.9759</td>\n",
       "      <td>5.0</td>\n",
       "    </tr>\n",
       "    <tr>\n",
       "      <td>35909</td>\n",
       "      <td>5.0</td>\n",
       "      <td>0.9965</td>\n",
       "      <td>5.0</td>\n",
       "    </tr>\n",
       "  </tbody>\n",
       "</table>\n",
       "<p>34599 rows × 3 columns</p>\n",
       "</div>"
      ],
      "text/plain": [
       "       reviews.rating  compound  reviews_rating\n",
       "0                 4.0    0.8299             4.0\n",
       "1                 5.0    0.9828             5.0\n",
       "2                 5.0    0.0000             5.0\n",
       "3                 5.0    0.9643             5.0\n",
       "4                 5.0    0.9643             5.0\n",
       "...               ...       ...             ...\n",
       "35905             5.0    0.9813             5.0\n",
       "35906             5.0    0.8271             5.0\n",
       "35907             5.0    0.9888             5.0\n",
       "35908             5.0    0.9759             5.0\n",
       "35909             5.0    0.9965             5.0\n",
       "\n",
       "[34599 rows x 3 columns]"
      ]
     },
     "execution_count": 175,
     "metadata": {},
     "output_type": "execute_result"
    }
   ],
   "source": [
    "df = hotel_df[[\"reviews.rating\", \"compound\"]]\n",
    "df[\"reviews_rating\"] = df.loc[:,[\"reviews.rating\"]]\n",
    "df"
   ]
  },
  {
   "cell_type": "code",
   "execution_count": 176,
   "metadata": {
    "scrolled": true
   },
   "outputs": [
    {
     "data": {
      "text/html": [
       "<table class=\"simpletable\">\n",
       "<caption>OLS Regression Results</caption>\n",
       "<tr>\n",
       "  <th>Dep. Variable:</th>     <td>reviews_rating</td>  <th>  R-squared:         </th> <td>   0.288</td> \n",
       "</tr>\n",
       "<tr>\n",
       "  <th>Model:</th>                   <td>OLS</td>       <th>  Adj. R-squared:    </th> <td>   0.288</td> \n",
       "</tr>\n",
       "<tr>\n",
       "  <th>Method:</th>             <td>Least Squares</td>  <th>  F-statistic:       </th> <td>1.401e+04</td>\n",
       "</tr>\n",
       "<tr>\n",
       "  <th>Date:</th>             <td>Thu, 02 Apr 2020</td> <th>  Prob (F-statistic):</th>  <td>  0.00</td>  \n",
       "</tr>\n",
       "<tr>\n",
       "  <th>Time:</th>                 <td>16:46:29</td>     <th>  Log-Likelihood:    </th> <td> -54484.</td> \n",
       "</tr>\n",
       "<tr>\n",
       "  <th>No. Observations:</th>      <td> 34599</td>      <th>  AIC:               </th> <td>1.090e+05</td>\n",
       "</tr>\n",
       "<tr>\n",
       "  <th>Df Residuals:</th>          <td> 34597</td>      <th>  BIC:               </th> <td>1.090e+05</td>\n",
       "</tr>\n",
       "<tr>\n",
       "  <th>Df Model:</th>              <td>     1</td>      <th>                     </th>     <td> </td>    \n",
       "</tr>\n",
       "<tr>\n",
       "  <th>Covariance Type:</th>      <td>nonrobust</td>    <th>                     </th>     <td> </td>    \n",
       "</tr>\n",
       "</table>\n",
       "<table class=\"simpletable\">\n",
       "<tr>\n",
       "      <td></td>         <th>coef</th>     <th>std err</th>      <th>t</th>      <th>P>|t|</th>  <th>[0.025</th>    <th>0.975]</th>  \n",
       "</tr>\n",
       "<tr>\n",
       "  <th>Intercept</th> <td>    3.1632</td> <td>    0.008</td> <td>  381.908</td> <td> 0.000</td> <td>    3.147</td> <td>    3.179</td>\n",
       "</tr>\n",
       "<tr>\n",
       "  <th>compound</th>  <td>    1.3382</td> <td>    0.011</td> <td>  118.354</td> <td> 0.000</td> <td>    1.316</td> <td>    1.360</td>\n",
       "</tr>\n",
       "</table>\n",
       "<table class=\"simpletable\">\n",
       "<tr>\n",
       "  <th>Omnibus:</th>       <td>3229.323</td> <th>  Durbin-Watson:     </th> <td>   1.358</td> \n",
       "</tr>\n",
       "<tr>\n",
       "  <th>Prob(Omnibus):</th>  <td> 0.000</td>  <th>  Jarque-Bera (JB):  </th> <td>17468.096</td>\n",
       "</tr>\n",
       "<tr>\n",
       "  <th>Skew:</th>           <td> 0.289</td>  <th>  Prob(JB):          </th> <td>    0.00</td> \n",
       "</tr>\n",
       "<tr>\n",
       "  <th>Kurtosis:</th>       <td> 6.433</td>  <th>  Cond. No.          </th> <td>    2.34</td> \n",
       "</tr>\n",
       "</table><br/><br/>Warnings:<br/>[1] Standard Errors assume that the covariance matrix of the errors is correctly specified."
      ],
      "text/plain": [
       "<class 'statsmodels.iolib.summary.Summary'>\n",
       "\"\"\"\n",
       "                            OLS Regression Results                            \n",
       "==============================================================================\n",
       "Dep. Variable:         reviews_rating   R-squared:                       0.288\n",
       "Model:                            OLS   Adj. R-squared:                  0.288\n",
       "Method:                 Least Squares   F-statistic:                 1.401e+04\n",
       "Date:                Thu, 02 Apr 2020   Prob (F-statistic):               0.00\n",
       "Time:                        16:46:29   Log-Likelihood:                -54484.\n",
       "No. Observations:               34599   AIC:                         1.090e+05\n",
       "Df Residuals:                   34597   BIC:                         1.090e+05\n",
       "Df Model:                           1                                         \n",
       "Covariance Type:            nonrobust                                         \n",
       "==============================================================================\n",
       "                 coef    std err          t      P>|t|      [0.025      0.975]\n",
       "------------------------------------------------------------------------------\n",
       "Intercept      3.1632      0.008    381.908      0.000       3.147       3.179\n",
       "compound       1.3382      0.011    118.354      0.000       1.316       1.360\n",
       "==============================================================================\n",
       "Omnibus:                     3229.323   Durbin-Watson:                   1.358\n",
       "Prob(Omnibus):                  0.000   Jarque-Bera (JB):            17468.096\n",
       "Skew:                           0.289   Prob(JB):                         0.00\n",
       "Kurtosis:                       6.433   Cond. No.                         2.34\n",
       "==============================================================================\n",
       "\n",
       "Warnings:\n",
       "[1] Standard Errors assume that the covariance matrix of the errors is correctly specified.\n",
       "\"\"\""
      ]
     },
     "execution_count": 176,
     "metadata": {},
     "output_type": "execute_result"
    }
   ],
   "source": [
    "import statsmodels.formula.api as smf\n",
    "reg = smf.ols('reviews_rating ~ compound', data=df).fit()\n",
    "reg.summary()"
   ]
  },
  {
   "cell_type": "markdown",
   "metadata": {},
   "source": [
    "# see correlation"
   ]
  },
  {
   "cell_type": "code",
   "execution_count": null,
   "metadata": {},
   "outputs": [],
   "source": [
    "plotCorrelationMatrix(df1, 8)"
   ]
  },
  {
   "cell_type": "markdown",
   "metadata": {},
   "source": [
    "# Step 1. Linearity & Equal variance"
   ]
  },
  {
   "cell_type": "markdown",
   "metadata": {},
   "source": [
    "From the below part, it seems random"
   ]
  },
  {
   "cell_type": "code",
   "execution_count": null,
   "metadata": {
    "scrolled": true
   },
   "outputs": [],
   "source": [
    "pred_val = reg.fittedvalues.copy()\n",
    "true_val = df[\"reviews_rating\"].values.copy()\n",
    "residual = true_val - pred_val\n",
    "fig, ax = plt.subplots(figsize=(6,2.5))\n",
    "scatter_plot= ax.scatter(residual, pred_val)"
   ]
  },
  {
   "cell_type": "code",
   "execution_count": 185,
   "metadata": {},
   "outputs": [
    {
     "data": {
      "text/plain": [
       "Ttest_1sampResult(statistic=-1.8010068467411677, pvalue=0.07171050595373127)"
      ]
     },
     "execution_count": 185,
     "metadata": {},
     "output_type": "execute_result"
    }
   ],
   "source": [
    "import statsmodels.stats.api as sms\n",
    "import numpy as np\n",
    "import statsmodels\n",
    "import seaborn as sns\n",
    "from matplotlib import pyplot as plt\n",
    "%matplotlib inline\n",
    "sms.linear_harvey_collier(reg)"
   ]
  },
  {
   "cell_type": "code",
   "execution_count": 186,
   "metadata": {},
   "outputs": [
    {
     "data": {
      "text/plain": [
       "(nan, 1.009381780324e-312)"
      ]
     },
     "execution_count": 186,
     "metadata": {},
     "output_type": "execute_result"
    }
   ],
   "source": [
    "_, pval, __, f_pval = statsmodels.stats.diagnostic.het_breuschpagan(residual, df[['compound']])\n",
    "pval, f_pval"
   ]
  },
  {
   "cell_type": "code",
   "execution_count": 187,
   "metadata": {
    "scrolled": true
   },
   "outputs": [
    {
     "data": {
      "text/plain": [
       "0.94166691392278"
      ]
     },
     "execution_count": 187,
     "metadata": {},
     "output_type": "execute_result"
    },
    {
     "data": {
      "image/png": "[encoded data removed]",
      "text/plain": [
       "<Figure size 432x180 with 1 Axes>"
      ]
     },
     "metadata": {
      "needs_background": "light"
     },
     "output_type": "display_data"
    }
   ],
   "source": [
    "import scipy as sp\n",
    "fig, ax = plt.subplots(figsize=(6,2.5))\n",
    "_, (__, ___, r) = sp.stats.probplot(residual, plot=ax, fit=True)\n",
    "r**2"
   ]
  },
  {
   "cell_type": "code",
   "execution_count": null,
   "metadata": {},
   "outputs": [],
   "source": []
  },
  {
   "cell_type": "code",
   "execution_count": 149,
   "metadata": {
    "scrolled": true
   },
   "outputs": [
    {
     "data": {
      "image/png": "[encoded data removed]",
      "text/plain": [
       "<Figure size 640x480 with 1 Axes>"
      ]
     },
     "metadata": {},
     "output_type": "display_data"
    },
    {
     "data": {
      "text/plain": [
       "<ggplot: (-9223371845039541572)>"
      ]
     },
     "execution_count": 149,
     "metadata": {},
     "output_type": "execute_result"
    }
   ],
   "source": [
    "ggplot(hotel_df, aes(x = \"language\", fill = 'language')) + \\\n",
    "    geom_bar(stat = 'count')+ \\\n",
    "    theme_bw()"
   ]
  },
  {
   "cell_type": "code",
   "execution_count": 158,
   "metadata": {},
   "outputs": [
    {
     "data": {
      "image/png": "[encoded data removed]",
      "text/plain": [
       "<Figure size 640x480 with 1 Axes>"
      ]
     },
     "metadata": {},
     "output_type": "display_data"
    },
    {
     "data": {
      "text/plain": [
       "<ggplot: (-9223371845051980128)>"
      ]
     },
     "execution_count": 158,
     "metadata": {},
     "output_type": "execute_result"
    }
   ],
   "source": [
    "ggplot(hotel_df, aes(x = \"reviews.rating\")) + \\\n",
    "    geom_bar() + \\\n",
    "    theme_bw() +\\\n",
    "    xlab(\"Reviews Rating\") + \\\n",
    "    ggtitle(\"Distribution of Reviews Rating\")"
   ]
  },
  {
   "cell_type": "code",
   "execution_count": 159,
   "metadata": {},
   "outputs": [
    {
     "data": {
      "image/png": "[encoded data removed]",
      "text/plain": [
       "<Figure size 640x480 with 1 Axes>"
      ]
     },
     "metadata": {},
     "output_type": "display_data"
    },
    {
     "data": {
      "text/plain": [
       "<ggplot: (-9223371845045044724)>"
      ]
     },
     "execution_count": 159,
     "metadata": {},
     "output_type": "execute_result"
    }
   ],
   "source": [
    "ggplot(hotel_df, aes(x = \"Analysis\", y = \"reviews.rating\")) + \\\n",
    "    geom_boxplot() + \\\n",
    "    theme_bw() + \\\n",
    "    ylab(\"Reviews Rating\") + \\\n",
    "    ggtitle(\"Boxplots, Reviews Rating with sentiment tagged\")"
   ]
  },
  {
   "cell_type": "code",
   "execution_count": 160,
   "metadata": {
    "scrolled": true
   },
   "outputs": [
    {
     "data": {
      "image/png": "[encoded data removed]",
      "text/plain": [
       "<Figure size 640x480 with 1 Axes>"
      ]
     },
     "metadata": {},
     "output_type": "display_data"
    },
    {
     "data": {
      "text/plain": [
       "<ggplot: (-9223371845046088500)>"
      ]
     },
     "execution_count": 160,
     "metadata": {},
     "output_type": "execute_result"
    }
   ],
   "source": [
    "ggplot(hotel_df, aes(x = \"Analysis\", y = \"compound\")) + \\\n",
    "    geom_boxplot() + \\\n",
    "    theme_bw() + \\\n",
    "    ylab(\"Compound Score\") + \\\n",
    "    ggtitle(\"Boxplots, Compound Score with sentiment tagged\")"
   ]
  },
  {
   "cell_type": "markdown",
   "metadata": {
    "scrolled": true
   },
   "source": [
    "# vacation analysis"
   ]
  },
  {
   "cell_type": "code",
   "execution_count": 33,
   "metadata": {},
   "outputs": [],
   "source": [
    "hotel_df = hotel_df[hotel_df[\"hotel_city\"] != 'Curitiba']\n",
    "statesList = [\"AL\", \"AK\", \"AZ\", \"AR\", \"CA\", \"CO\", \"CT\", \"DC\", \"DE\", \"FL\", \"GA\", \n",
    "          \"HI\", \"ID\", \"IL\", \"IN\", \"IA\", \"KS\", \"KY\", \"LA\", \"ME\", \"MD\", \n",
    "          \"MA\", \"MI\", \"MN\", \"MS\", \"MO\", \"MT\", \"NE\", \"NV\", \"NH\", \"NJ\", \n",
    "          \"NM\", \"NY\", \"NC\", \"ND\", \"OH\", \"OK\", \"OR\", \"PA\", \"RI\", \"SC\", \n",
    "          \"SD\", \"TN\", \"TX\", \"UT\", \"VT\", \"VA\", \"WA\", \"WV\", \"WI\", \"WY\"]\n",
    "vectorizer = CountVectorizer(max_features=5000)\n",
    "X = vectorizer.fit_transform(hotel_df['reviews.text'])\n",
    "bag_of_words = pd.DataFrame(X.toarray(), columns=vectorizer.get_feature_names())"
   ]
  },
  {
   "cell_type": "code",
   "execution_count": 42,
   "metadata": {
    "scrolled": true
   },
   "outputs": [
    {
     "data": {
      "text/html": [
       "<div>\n",
       "<style scoped>\n",
       "    .dataframe tbody tr th:only-of-type {\n",
       "        vertical-align: middle;\n",
       "    }\n",
       "\n",
       "    .dataframe tbody tr th {\n",
       "        vertical-align: top;\n",
       "    }\n",
       "\n",
       "    .dataframe thead th {\n",
       "        text-align: right;\n",
       "    }\n",
       "</style>\n",
       "<table border=\"1\" class=\"dataframe\">\n",
       "  <thead>\n",
       "    <tr style=\"text-align: right;\">\n",
       "      <th></th>\n",
       "      <th>00</th>\n",
       "      <th>000</th>\n",
       "      <th>00am</th>\n",
       "      <th>00pm</th>\n",
       "      <th>10</th>\n",
       "      <th>100</th>\n",
       "      <th>101</th>\n",
       "      <th>109</th>\n",
       "      <th>10am</th>\n",
       "      <th>10min</th>\n",
       "      <th>...</th>\n",
       "      <th>zero</th>\n",
       "      <th>zimmer</th>\n",
       "      <th>zion</th>\n",
       "      <th>zip</th>\n",
       "      <th>zona</th>\n",
       "      <th>zone</th>\n",
       "      <th>zoo</th>\n",
       "      <th>zu</th>\n",
       "      <th>zum</th>\n",
       "      <th>zur</th>\n",
       "    </tr>\n",
       "  </thead>\n",
       "  <tbody>\n",
       "    <tr>\n",
       "      <td>0</td>\n",
       "      <td>0</td>\n",
       "      <td>0</td>\n",
       "      <td>0</td>\n",
       "      <td>0</td>\n",
       "      <td>1</td>\n",
       "      <td>0</td>\n",
       "      <td>0</td>\n",
       "      <td>0</td>\n",
       "      <td>0</td>\n",
       "      <td>0</td>\n",
       "      <td>...</td>\n",
       "      <td>0</td>\n",
       "      <td>0</td>\n",
       "      <td>0</td>\n",
       "      <td>0</td>\n",
       "      <td>0</td>\n",
       "      <td>0</td>\n",
       "      <td>0</td>\n",
       "      <td>0</td>\n",
       "      <td>0</td>\n",
       "      <td>0</td>\n",
       "    </tr>\n",
       "    <tr>\n",
       "      <td>1</td>\n",
       "      <td>0</td>\n",
       "      <td>0</td>\n",
       "      <td>0</td>\n",
       "      <td>0</td>\n",
       "      <td>0</td>\n",
       "      <td>0</td>\n",
       "      <td>0</td>\n",
       "      <td>0</td>\n",
       "      <td>0</td>\n",
       "      <td>0</td>\n",
       "      <td>...</td>\n",
       "      <td>0</td>\n",
       "      <td>0</td>\n",
       "      <td>0</td>\n",
       "      <td>0</td>\n",
       "      <td>0</td>\n",
       "      <td>0</td>\n",
       "      <td>0</td>\n",
       "      <td>0</td>\n",
       "      <td>0</td>\n",
       "      <td>0</td>\n",
       "    </tr>\n",
       "    <tr>\n",
       "      <td>2</td>\n",
       "      <td>0</td>\n",
       "      <td>0</td>\n",
       "      <td>0</td>\n",
       "      <td>0</td>\n",
       "      <td>0</td>\n",
       "      <td>0</td>\n",
       "      <td>0</td>\n",
       "      <td>0</td>\n",
       "      <td>0</td>\n",
       "      <td>0</td>\n",
       "      <td>...</td>\n",
       "      <td>0</td>\n",
       "      <td>0</td>\n",
       "      <td>0</td>\n",
       "      <td>0</td>\n",
       "      <td>0</td>\n",
       "      <td>0</td>\n",
       "      <td>0</td>\n",
       "      <td>0</td>\n",
       "      <td>0</td>\n",
       "      <td>0</td>\n",
       "    </tr>\n",
       "    <tr>\n",
       "      <td>3</td>\n",
       "      <td>0</td>\n",
       "      <td>0</td>\n",
       "      <td>0</td>\n",
       "      <td>0</td>\n",
       "      <td>0</td>\n",
       "      <td>0</td>\n",
       "      <td>0</td>\n",
       "      <td>0</td>\n",
       "      <td>0</td>\n",
       "      <td>0</td>\n",
       "      <td>...</td>\n",
       "      <td>0</td>\n",
       "      <td>0</td>\n",
       "      <td>0</td>\n",
       "      <td>0</td>\n",
       "      <td>0</td>\n",
       "      <td>0</td>\n",
       "      <td>0</td>\n",
       "      <td>0</td>\n",
       "      <td>0</td>\n",
       "      <td>0</td>\n",
       "    </tr>\n",
       "    <tr>\n",
       "      <td>4</td>\n",
       "      <td>0</td>\n",
       "      <td>0</td>\n",
       "      <td>0</td>\n",
       "      <td>0</td>\n",
       "      <td>0</td>\n",
       "      <td>0</td>\n",
       "      <td>0</td>\n",
       "      <td>0</td>\n",
       "      <td>0</td>\n",
       "      <td>0</td>\n",
       "      <td>...</td>\n",
       "      <td>0</td>\n",
       "      <td>0</td>\n",
       "      <td>0</td>\n",
       "      <td>0</td>\n",
       "      <td>0</td>\n",
       "      <td>0</td>\n",
       "      <td>0</td>\n",
       "      <td>0</td>\n",
       "      <td>0</td>\n",
       "      <td>0</td>\n",
       "    </tr>\n",
       "    <tr>\n",
       "      <td>...</td>\n",
       "      <td>...</td>\n",
       "      <td>...</td>\n",
       "      <td>...</td>\n",
       "      <td>...</td>\n",
       "      <td>...</td>\n",
       "      <td>...</td>\n",
       "      <td>...</td>\n",
       "      <td>...</td>\n",
       "      <td>...</td>\n",
       "      <td>...</td>\n",
       "      <td>...</td>\n",
       "      <td>...</td>\n",
       "      <td>...</td>\n",
       "      <td>...</td>\n",
       "      <td>...</td>\n",
       "      <td>...</td>\n",
       "      <td>...</td>\n",
       "      <td>...</td>\n",
       "      <td>...</td>\n",
       "      <td>...</td>\n",
       "      <td>...</td>\n",
       "    </tr>\n",
       "    <tr>\n",
       "      <td>34682</td>\n",
       "      <td>0</td>\n",
       "      <td>0</td>\n",
       "      <td>0</td>\n",
       "      <td>0</td>\n",
       "      <td>0</td>\n",
       "      <td>0</td>\n",
       "      <td>0</td>\n",
       "      <td>0</td>\n",
       "      <td>0</td>\n",
       "      <td>0</td>\n",
       "      <td>...</td>\n",
       "      <td>0</td>\n",
       "      <td>0</td>\n",
       "      <td>0</td>\n",
       "      <td>0</td>\n",
       "      <td>0</td>\n",
       "      <td>0</td>\n",
       "      <td>0</td>\n",
       "      <td>0</td>\n",
       "      <td>0</td>\n",
       "      <td>0</td>\n",
       "    </tr>\n",
       "    <tr>\n",
       "      <td>34683</td>\n",
       "      <td>0</td>\n",
       "      <td>0</td>\n",
       "      <td>0</td>\n",
       "      <td>0</td>\n",
       "      <td>0</td>\n",
       "      <td>0</td>\n",
       "      <td>0</td>\n",
       "      <td>0</td>\n",
       "      <td>0</td>\n",
       "      <td>0</td>\n",
       "      <td>...</td>\n",
       "      <td>0</td>\n",
       "      <td>0</td>\n",
       "      <td>0</td>\n",
       "      <td>0</td>\n",
       "      <td>0</td>\n",
       "      <td>0</td>\n",
       "      <td>0</td>\n",
       "      <td>0</td>\n",
       "      <td>0</td>\n",
       "      <td>0</td>\n",
       "    </tr>\n",
       "    <tr>\n",
       "      <td>34684</td>\n",
       "      <td>0</td>\n",
       "      <td>0</td>\n",
       "      <td>0</td>\n",
       "      <td>0</td>\n",
       "      <td>0</td>\n",
       "      <td>0</td>\n",
       "      <td>0</td>\n",
       "      <td>0</td>\n",
       "      <td>0</td>\n",
       "      <td>0</td>\n",
       "      <td>...</td>\n",
       "      <td>0</td>\n",
       "      <td>0</td>\n",
       "      <td>0</td>\n",
       "      <td>0</td>\n",
       "      <td>0</td>\n",
       "      <td>0</td>\n",
       "      <td>0</td>\n",
       "      <td>0</td>\n",
       "      <td>0</td>\n",
       "      <td>0</td>\n",
       "    </tr>\n",
       "    <tr>\n",
       "      <td>34685</td>\n",
       "      <td>0</td>\n",
       "      <td>0</td>\n",
       "      <td>0</td>\n",
       "      <td>0</td>\n",
       "      <td>0</td>\n",
       "      <td>0</td>\n",
       "      <td>0</td>\n",
       "      <td>0</td>\n",
       "      <td>0</td>\n",
       "      <td>0</td>\n",
       "      <td>...</td>\n",
       "      <td>0</td>\n",
       "      <td>0</td>\n",
       "      <td>0</td>\n",
       "      <td>0</td>\n",
       "      <td>0</td>\n",
       "      <td>0</td>\n",
       "      <td>0</td>\n",
       "      <td>0</td>\n",
       "      <td>0</td>\n",
       "      <td>0</td>\n",
       "    </tr>\n",
       "    <tr>\n",
       "      <td>34686</td>\n",
       "      <td>0</td>\n",
       "      <td>0</td>\n",
       "      <td>0</td>\n",
       "      <td>0</td>\n",
       "      <td>0</td>\n",
       "      <td>0</td>\n",
       "      <td>0</td>\n",
       "      <td>0</td>\n",
       "      <td>0</td>\n",
       "      <td>0</td>\n",
       "      <td>...</td>\n",
       "      <td>0</td>\n",
       "      <td>0</td>\n",
       "      <td>0</td>\n",
       "      <td>0</td>\n",
       "      <td>0</td>\n",
       "      <td>0</td>\n",
       "      <td>0</td>\n",
       "      <td>0</td>\n",
       "      <td>0</td>\n",
       "      <td>0</td>\n",
       "    </tr>\n",
       "  </tbody>\n",
       "</table>\n",
       "<p>34687 rows × 5000 columns</p>\n",
       "</div>"
      ],
      "text/plain": [
       "       00  000  00am  00pm  10  100  101  109  10am  10min  ...  zero  zimmer  \\\n",
       "0       0    0     0     0   1    0    0    0     0      0  ...     0       0   \n",
       "1       0    0     0     0   0    0    0    0     0      0  ...     0       0   \n",
       "2       0    0     0     0   0    0    0    0     0      0  ...     0       0   \n",
       "3       0    0     0     0   0    0    0    0     0      0  ...     0       0   \n",
       "4       0    0     0     0   0    0    0    0     0      0  ...     0       0   \n",
       "...    ..  ...   ...   ...  ..  ...  ...  ...   ...    ...  ...   ...     ...   \n",
       "34682   0    0     0     0   0    0    0    0     0      0  ...     0       0   \n",
       "34683   0    0     0     0   0    0    0    0     0      0  ...     0       0   \n",
       "34684   0    0     0     0   0    0    0    0     0      0  ...     0       0   \n",
       "34685   0    0     0     0   0    0    0    0     0      0  ...     0       0   \n",
       "34686   0    0     0     0   0    0    0    0     0      0  ...     0       0   \n",
       "\n",
       "       zion  zip  zona  zone  zoo  zu  zum  zur  \n",
       "0         0    0     0     0    0   0    0    0  \n",
       "1         0    0     0     0    0   0    0    0  \n",
       "2         0    0     0     0    0   0    0    0  \n",
       "3         0    0     0     0    0   0    0    0  \n",
       "4         0    0     0     0    0   0    0    0  \n",
       "...     ...  ...   ...   ...  ...  ..  ...  ...  \n",
       "34682     0    0     0     0    0   0    0    0  \n",
       "34683     0    0     0     0    0   0    0    0  \n",
       "34684     0    0     0     0    0   0    0    0  \n",
       "34685     0    0     0     0    0   0    0    0  \n",
       "34686     0    0     0     0    0   0    0    0  \n",
       "\n",
       "[34687 rows x 5000 columns]"
      ]
     },
     "execution_count": 42,
     "metadata": {},
     "output_type": "execute_result"
    }
   ],
   "source": [
    "bag_of_words"
   ]
  },
  {
   "cell_type": "code",
   "execution_count": 37,
   "metadata": {},
   "outputs": [],
   "source": [
    "# Join our bag of words back to our initial hotel data\n",
    "full_df = hotel_df.join(bag_of_words)"
   ]
  },
  {
   "cell_type": "code",
   "execution_count": 38,
   "metadata": {},
   "outputs": [],
   "source": [
    "# X is our words\n",
    "X = bag_of_words\n",
    "\n",
    "# Y is our hotel name (the outcome we care about)\n",
    "Y_hotel = hotel_df['hotel_name']"
   ]
  },
  {
   "cell_type": "code",
   "execution_count": 39,
   "metadata": {},
   "outputs": [
    {
     "name": "stderr",
     "output_type": "stream",
     "text": [
      "C:\\Users\\Jack\\Anaconda3\\lib\\site-packages\\sklearn\\ensemble\\forest.py:245: FutureWarning: The default value of n_estimators will change from 10 in version 0.20 to 100 in 0.22.\n",
      "  \"10 in version 0.20 to 100 in 0.22.\", FutureWarning)\n"
     ]
    },
    {
     "data": {
      "text/plain": [
       "RandomForestClassifier(bootstrap=True, class_weight=None, criterion='gini',\n",
       "                       max_depth=None, max_features='auto', max_leaf_nodes=None,\n",
       "                       min_impurity_decrease=0.0, min_impurity_split=None,\n",
       "                       min_samples_leaf=1, min_samples_split=2,\n",
       "                       min_weight_fraction_leaf=0.0, n_estimators=10,\n",
       "                       n_jobs=None, oob_score=False, random_state=None,\n",
       "                       verbose=0, warm_start=False)"
      ]
     },
     "execution_count": 39,
     "metadata": {},
     "output_type": "execute_result"
    }
   ],
   "source": [
    "rfc = RandomForestClassifier()\n",
    "\n",
    "# Fit that random forest model to our data\n",
    "rfc.fit(X,Y_hotel)"
   ]
  },
  {
   "cell_type": "code",
   "execution_count": null,
   "metadata": {},
   "outputs": [],
   "source": [
    "# wrtie your onw dream hotel"
   ]
  },
  {
   "cell_type": "code",
   "execution_count": 40,
   "metadata": {
    "scrolled": true
   },
   "outputs": [
    {
     "data": {
      "text/html": [
       "<div>\n",
       "<style scoped>\n",
       "    .dataframe tbody tr th:only-of-type {\n",
       "        vertical-align: middle;\n",
       "    }\n",
       "\n",
       "    .dataframe tbody tr th {\n",
       "        vertical-align: top;\n",
       "    }\n",
       "\n",
       "    .dataframe thead th {\n",
       "        text-align: right;\n",
       "    }\n",
       "</style>\n",
       "<table border=\"1\" class=\"dataframe\">\n",
       "  <thead>\n",
       "    <tr style=\"text-align: right;\">\n",
       "      <th></th>\n",
       "      <th>hotel_address</th>\n",
       "      <th>categories</th>\n",
       "      <th>hotel_city</th>\n",
       "      <th>hotel_country</th>\n",
       "      <th>latitude</th>\n",
       "      <th>longitude</th>\n",
       "      <th>hotel_name</th>\n",
       "      <th>postalCode</th>\n",
       "      <th>province</th>\n",
       "      <th>reviews.date</th>\n",
       "      <th>reviews.dateAdded</th>\n",
       "      <th>reviews.rating</th>\n",
       "      <th>reviews.text</th>\n",
       "      <th>reviews.title</th>\n",
       "      <th>reviews.userCity</th>\n",
       "      <th>reviews.username</th>\n",
       "      <th>reviews.userProvince</th>\n",
       "      <th>cleaned_text</th>\n",
       "    </tr>\n",
       "  </thead>\n",
       "  <tbody>\n",
       "    <tr>\n",
       "      <td>0</td>\n",
       "      <td>Riviera San Nicol 11/a</td>\n",
       "      <td>Hotels</td>\n",
       "      <td>Mableton</td>\n",
       "      <td>US</td>\n",
       "      <td>45.421611</td>\n",
       "      <td>12.376187</td>\n",
       "      <td>Hotel Russo Palace</td>\n",
       "      <td>30126</td>\n",
       "      <td>GA</td>\n",
       "      <td>2013-09-22T00:00:00Z</td>\n",
       "      <td>2016-10-24T00:00:25Z</td>\n",
       "      <td>4.0</td>\n",
       "      <td>Pleasant 10 min walk along the sea front to th...</td>\n",
       "      <td>Good location away from the crouds</td>\n",
       "      <td>NaN</td>\n",
       "      <td>Russ (kent)</td>\n",
       "      <td>NaN</td>\n",
       "      <td>Pleasant min walk along sea front Water Bus. r...</td>\n",
       "    </tr>\n",
       "    <tr>\n",
       "      <td>1</td>\n",
       "      <td>Riviera San Nicol 11/a</td>\n",
       "      <td>Hotels</td>\n",
       "      <td>Mableton</td>\n",
       "      <td>US</td>\n",
       "      <td>45.421611</td>\n",
       "      <td>12.376187</td>\n",
       "      <td>Hotel Russo Palace</td>\n",
       "      <td>30126</td>\n",
       "      <td>GA</td>\n",
       "      <td>2015-04-03T00:00:00Z</td>\n",
       "      <td>2016-10-24T00:00:25Z</td>\n",
       "      <td>5.0</td>\n",
       "      <td>Really lovely hotel. Stayed on the very top fl...</td>\n",
       "      <td>Great hotel with Jacuzzi bath!</td>\n",
       "      <td>NaN</td>\n",
       "      <td>A Traveler</td>\n",
       "      <td>NaN</td>\n",
       "      <td>Really lovely hotel. Stayed top floor surprise...</td>\n",
       "    </tr>\n",
       "    <tr>\n",
       "      <td>2</td>\n",
       "      <td>Riviera San Nicol 11/a</td>\n",
       "      <td>Hotels</td>\n",
       "      <td>Mableton</td>\n",
       "      <td>US</td>\n",
       "      <td>45.421611</td>\n",
       "      <td>12.376187</td>\n",
       "      <td>Hotel Russo Palace</td>\n",
       "      <td>30126</td>\n",
       "      <td>GA</td>\n",
       "      <td>2014-05-13T00:00:00Z</td>\n",
       "      <td>2016-10-24T00:00:25Z</td>\n",
       "      <td>5.0</td>\n",
       "      <td>Ett mycket bra hotell. Det som drog ner betyge...</td>\n",
       "      <td>Lugnt l��ge</td>\n",
       "      <td>NaN</td>\n",
       "      <td>Maud</td>\n",
       "      <td>NaN</td>\n",
       "      <td>Ett mycket bra hotell. Det som drog ner betyge...</td>\n",
       "    </tr>\n",
       "    <tr>\n",
       "      <td>3</td>\n",
       "      <td>Riviera San Nicol 11/a</td>\n",
       "      <td>Hotels</td>\n",
       "      <td>Mableton</td>\n",
       "      <td>US</td>\n",
       "      <td>45.421611</td>\n",
       "      <td>12.376187</td>\n",
       "      <td>Hotel Russo Palace</td>\n",
       "      <td>30126</td>\n",
       "      <td>GA</td>\n",
       "      <td>2013-10-27T00:00:00Z</td>\n",
       "      <td>2016-10-24T00:00:25Z</td>\n",
       "      <td>5.0</td>\n",
       "      <td>We stayed here for four nights in October. The...</td>\n",
       "      <td>Good location on the Lido.</td>\n",
       "      <td>NaN</td>\n",
       "      <td>Julie</td>\n",
       "      <td>NaN</td>\n",
       "      <td>We stayed four nights October. The hotel staff...</td>\n",
       "    </tr>\n",
       "    <tr>\n",
       "      <td>4</td>\n",
       "      <td>Riviera San Nicol 11/a</td>\n",
       "      <td>Hotels</td>\n",
       "      <td>Mableton</td>\n",
       "      <td>US</td>\n",
       "      <td>45.421611</td>\n",
       "      <td>12.376187</td>\n",
       "      <td>Hotel Russo Palace</td>\n",
       "      <td>30126</td>\n",
       "      <td>GA</td>\n",
       "      <td>2015-03-05T00:00:00Z</td>\n",
       "      <td>2016-10-24T00:00:25Z</td>\n",
       "      <td>5.0</td>\n",
       "      <td>We stayed here for four nights in October. The...</td>\n",
       "      <td>������ ���������������</td>\n",
       "      <td>NaN</td>\n",
       "      <td>sungchul</td>\n",
       "      <td>NaN</td>\n",
       "      <td>We stayed four nights October. The hotel staff...</td>\n",
       "    </tr>\n",
       "    <tr>\n",
       "      <td>...</td>\n",
       "      <td>...</td>\n",
       "      <td>...</td>\n",
       "      <td>...</td>\n",
       "      <td>...</td>\n",
       "      <td>...</td>\n",
       "      <td>...</td>\n",
       "      <td>...</td>\n",
       "      <td>...</td>\n",
       "      <td>...</td>\n",
       "      <td>...</td>\n",
       "      <td>...</td>\n",
       "      <td>...</td>\n",
       "      <td>...</td>\n",
       "      <td>...</td>\n",
       "      <td>...</td>\n",
       "      <td>...</td>\n",
       "      <td>...</td>\n",
       "      <td>...</td>\n",
       "    </tr>\n",
       "    <tr>\n",
       "      <td>35905</td>\n",
       "      <td>1088 Powdermill Rd</td>\n",
       "      <td>Cabins,Resorts &amp; Vacation Cottages,Wedding Cha...</td>\n",
       "      <td>Gatlinburg</td>\n",
       "      <td>US</td>\n",
       "      <td>35.754868</td>\n",
       "      <td>-83.457295</td>\n",
       "      <td>Elk Springs Resort</td>\n",
       "      <td>37738</td>\n",
       "      <td>TN</td>\n",
       "      <td>2016-07-06T00:00:00Z</td>\n",
       "      <td>2016-06-23T16:50:58Z</td>\n",
       "      <td>5.0</td>\n",
       "      <td>We truly enjoyed staying at the Elk Springs re...</td>\n",
       "      <td>We Loved It!</td>\n",
       "      <td>Charlotte</td>\n",
       "      <td>randolphtiffany</td>\n",
       "      <td>NC</td>\n",
       "      <td>We truly enjoyed staying Elk Springs resort! I...</td>\n",
       "    </tr>\n",
       "    <tr>\n",
       "      <td>35906</td>\n",
       "      <td>1088 Powdermill Rd</td>\n",
       "      <td>Cabins,Resorts &amp; Vacation Cottages,Wedding Cha...</td>\n",
       "      <td>Gatlinburg</td>\n",
       "      <td>US</td>\n",
       "      <td>35.754868</td>\n",
       "      <td>-83.457295</td>\n",
       "      <td>Elk Springs Resort</td>\n",
       "      <td>37738</td>\n",
       "      <td>TN</td>\n",
       "      <td>2016-05-02T00:00:00Z</td>\n",
       "      <td>2016-06-23T16:50:58Z</td>\n",
       "      <td>5.0</td>\n",
       "      <td>We were here for a 2nd time the last weekend o...</td>\n",
       "      <td>Amazing time (both times!!)</td>\n",
       "      <td>Charlotte</td>\n",
       "      <td>Sabrina P</td>\n",
       "      <td>NC</td>\n",
       "      <td>We time last weekend April stayed Deer Heart c...</td>\n",
       "    </tr>\n",
       "    <tr>\n",
       "      <td>35907</td>\n",
       "      <td>1088 Powdermill Rd</td>\n",
       "      <td>Cabins,Resorts &amp; Vacation Cottages,Wedding Cha...</td>\n",
       "      <td>Gatlinburg</td>\n",
       "      <td>US</td>\n",
       "      <td>35.754868</td>\n",
       "      <td>-83.457295</td>\n",
       "      <td>Elk Springs Resort</td>\n",
       "      <td>37738</td>\n",
       "      <td>TN</td>\n",
       "      <td>2012-03-20T00:00:00Z</td>\n",
       "      <td>2016-06-23T16:50:58Z</td>\n",
       "      <td>5.0</td>\n",
       "      <td>Best of the Best!!!! My family and I stayed in...</td>\n",
       "      <td>Amazing time (both times!!)</td>\n",
       "      <td>Charlotte</td>\n",
       "      <td>Chelsa K.</td>\n",
       "      <td>NC</td>\n",
       "      <td>Best Best!!!! My family I stayed Grin Bear It ...</td>\n",
       "    </tr>\n",
       "    <tr>\n",
       "      <td>35908</td>\n",
       "      <td>1088 Powdermill Rd</td>\n",
       "      <td>Cabins,Resorts &amp; Vacation Cottages,Wedding Cha...</td>\n",
       "      <td>Gatlinburg</td>\n",
       "      <td>US</td>\n",
       "      <td>35.754868</td>\n",
       "      <td>-83.457295</td>\n",
       "      <td>Elk Springs Resort</td>\n",
       "      <td>37738</td>\n",
       "      <td>TN</td>\n",
       "      <td>2012-03-12T00:00:00Z</td>\n",
       "      <td>2016-06-23T16:50:58Z</td>\n",
       "      <td>5.0</td>\n",
       "      <td>Amazing Vacation in Beautiful Cabin We stayed ...</td>\n",
       "      <td>Amazing time (both times!!)</td>\n",
       "      <td>Charlotte</td>\n",
       "      <td>Heather D.</td>\n",
       "      <td>NC</td>\n",
       "      <td>Amazing Vacation Beautiful Cabin We stayed lon...</td>\n",
       "    </tr>\n",
       "    <tr>\n",
       "      <td>35909</td>\n",
       "      <td>1088 Powdermill Rd</td>\n",
       "      <td>Cabins,Resorts &amp; Vacation Cottages,Wedding Cha...</td>\n",
       "      <td>Gatlinburg</td>\n",
       "      <td>US</td>\n",
       "      <td>35.754868</td>\n",
       "      <td>-83.457295</td>\n",
       "      <td>Elk Springs Resort</td>\n",
       "      <td>37738</td>\n",
       "      <td>TN</td>\n",
       "      <td>2015-11-03T00:00:00Z</td>\n",
       "      <td>2016-06-23T16:50:58Z</td>\n",
       "      <td>5.0</td>\n",
       "      <td>My husband and I stayed at Tree Tops which is ...</td>\n",
       "      <td>Amazing time (both times!!)</td>\n",
       "      <td>Charlotte</td>\n",
       "      <td>Carol W.</td>\n",
       "      <td>NC</td>\n",
       "      <td>My husband I stayed Tree Tops Bearfoot Resort,...</td>\n",
       "    </tr>\n",
       "  </tbody>\n",
       "</table>\n",
       "<p>34610 rows × 18 columns</p>\n",
       "</div>"
      ],
      "text/plain": [
       "                hotel_address  \\\n",
       "0      Riviera San Nicol 11/a   \n",
       "1      Riviera San Nicol 11/a   \n",
       "2      Riviera San Nicol 11/a   \n",
       "3      Riviera San Nicol 11/a   \n",
       "4      Riviera San Nicol 11/a   \n",
       "...                       ...   \n",
       "35905      1088 Powdermill Rd   \n",
       "35906      1088 Powdermill Rd   \n",
       "35907      1088 Powdermill Rd   \n",
       "35908      1088 Powdermill Rd   \n",
       "35909      1088 Powdermill Rd   \n",
       "\n",
       "                                              categories  hotel_city  \\\n",
       "0                                                 Hotels    Mableton   \n",
       "1                                                 Hotels    Mableton   \n",
       "2                                                 Hotels    Mableton   \n",
       "3                                                 Hotels    Mableton   \n",
       "4                                                 Hotels    Mableton   \n",
       "...                                                  ...         ...   \n",
       "35905  Cabins,Resorts & Vacation Cottages,Wedding Cha...  Gatlinburg   \n",
       "35906  Cabins,Resorts & Vacation Cottages,Wedding Cha...  Gatlinburg   \n",
       "35907  Cabins,Resorts & Vacation Cottages,Wedding Cha...  Gatlinburg   \n",
       "35908  Cabins,Resorts & Vacation Cottages,Wedding Cha...  Gatlinburg   \n",
       "35909  Cabins,Resorts & Vacation Cottages,Wedding Cha...  Gatlinburg   \n",
       "\n",
       "      hotel_country   latitude  longitude          hotel_name postalCode  \\\n",
       "0                US  45.421611  12.376187  Hotel Russo Palace      30126   \n",
       "1                US  45.421611  12.376187  Hotel Russo Palace      30126   \n",
       "2                US  45.421611  12.376187  Hotel Russo Palace      30126   \n",
       "3                US  45.421611  12.376187  Hotel Russo Palace      30126   \n",
       "4                US  45.421611  12.376187  Hotel Russo Palace      30126   \n",
       "...             ...        ...        ...                 ...        ...   \n",
       "35905            US  35.754868 -83.457295  Elk Springs Resort      37738   \n",
       "35906            US  35.754868 -83.457295  Elk Springs Resort      37738   \n",
       "35907            US  35.754868 -83.457295  Elk Springs Resort      37738   \n",
       "35908            US  35.754868 -83.457295  Elk Springs Resort      37738   \n",
       "35909            US  35.754868 -83.457295  Elk Springs Resort      37738   \n",
       "\n",
       "      province          reviews.date     reviews.dateAdded  reviews.rating  \\\n",
       "0           GA  2013-09-22T00:00:00Z  2016-10-24T00:00:25Z             4.0   \n",
       "1           GA  2015-04-03T00:00:00Z  2016-10-24T00:00:25Z             5.0   \n",
       "2           GA  2014-05-13T00:00:00Z  2016-10-24T00:00:25Z             5.0   \n",
       "3           GA  2013-10-27T00:00:00Z  2016-10-24T00:00:25Z             5.0   \n",
       "4           GA  2015-03-05T00:00:00Z  2016-10-24T00:00:25Z             5.0   \n",
       "...        ...                   ...                   ...             ...   \n",
       "35905       TN  2016-07-06T00:00:00Z  2016-06-23T16:50:58Z             5.0   \n",
       "35906       TN  2016-05-02T00:00:00Z  2016-06-23T16:50:58Z             5.0   \n",
       "35907       TN  2012-03-20T00:00:00Z  2016-06-23T16:50:58Z             5.0   \n",
       "35908       TN  2012-03-12T00:00:00Z  2016-06-23T16:50:58Z             5.0   \n",
       "35909       TN  2015-11-03T00:00:00Z  2016-06-23T16:50:58Z             5.0   \n",
       "\n",
       "                                            reviews.text  \\\n",
       "0      Pleasant 10 min walk along the sea front to th...   \n",
       "1      Really lovely hotel. Stayed on the very top fl...   \n",
       "2      Ett mycket bra hotell. Det som drog ner betyge...   \n",
       "3      We stayed here for four nights in October. The...   \n",
       "4      We stayed here for four nights in October. The...   \n",
       "...                                                  ...   \n",
       "35905  We truly enjoyed staying at the Elk Springs re...   \n",
       "35906  We were here for a 2nd time the last weekend o...   \n",
       "35907  Best of the Best!!!! My family and I stayed in...   \n",
       "35908  Amazing Vacation in Beautiful Cabin We stayed ...   \n",
       "35909  My husband and I stayed at Tree Tops which is ...   \n",
       "\n",
       "                            reviews.title reviews.userCity reviews.username  \\\n",
       "0      Good location away from the crouds              NaN      Russ (kent)   \n",
       "1          Great hotel with Jacuzzi bath!              NaN       A Traveler   \n",
       "2                             Lugnt l��ge              NaN             Maud   \n",
       "3              Good location on the Lido.              NaN            Julie   \n",
       "4                  ������ ���������������              NaN         sungchul   \n",
       "...                                   ...              ...              ...   \n",
       "35905                        We Loved It!        Charlotte  randolphtiffany   \n",
       "35906         Amazing time (both times!!)        Charlotte        Sabrina P   \n",
       "35907         Amazing time (both times!!)        Charlotte        Chelsa K.   \n",
       "35908         Amazing time (both times!!)        Charlotte       Heather D.   \n",
       "35909         Amazing time (both times!!)        Charlotte         Carol W.   \n",
       "\n",
       "      reviews.userProvince                                       cleaned_text  \n",
       "0                      NaN  Pleasant min walk along sea front Water Bus. r...  \n",
       "1                      NaN  Really lovely hotel. Stayed top floor surprise...  \n",
       "2                      NaN  Ett mycket bra hotell. Det som drog ner betyge...  \n",
       "3                      NaN  We stayed four nights October. The hotel staff...  \n",
       "4                      NaN  We stayed four nights October. The hotel staff...  \n",
       "...                    ...                                                ...  \n",
       "35905                   NC  We truly enjoyed staying Elk Springs resort! I...  \n",
       "35906                   NC  We time last weekend April stayed Deer Heart c...  \n",
       "35907                   NC  Best Best!!!! My family I stayed Grin Bear It ...  \n",
       "35908                   NC  Amazing Vacation Beautiful Cabin We stayed lon...  \n",
       "35909                   NC  My husband I stayed Tree Tops Bearfoot Resort,...  \n",
       "\n",
       "[34610 rows x 18 columns]"
      ]
     },
     "execution_count": 40,
     "metadata": {},
     "output_type": "execute_result"
    }
   ],
   "source": [
    "hotel_df"
   ]
  },
  {
   "cell_type": "code",
   "execution_count": 41,
   "metadata": {
    "scrolled": false
   },
   "outputs": [
    {
     "data": {
      "text/html": [
       "<div>\n",
       "<style scoped>\n",
       "    .dataframe tbody tr th:only-of-type {\n",
       "        vertical-align: middle;\n",
       "    }\n",
       "\n",
       "    .dataframe tbody tr th {\n",
       "        vertical-align: top;\n",
       "    }\n",
       "\n",
       "    .dataframe thead th {\n",
       "        text-align: right;\n",
       "    }\n",
       "</style>\n",
       "<table border=\"1\" class=\"dataframe\">\n",
       "  <thead>\n",
       "    <tr style=\"text-align: right;\">\n",
       "      <th></th>\n",
       "      <th>hotel_name</th>\n",
       "      <th>hotel_address</th>\n",
       "      <th>hotel_city</th>\n",
       "      <th>hotel_country</th>\n",
       "    </tr>\n",
       "  </thead>\n",
       "  <tbody>\n",
       "    <tr>\n",
       "      <td>20565</td>\n",
       "      <td>Ip Casino Resort Spa</td>\n",
       "      <td>850 Bayview Ave</td>\n",
       "      <td>Biloxi</td>\n",
       "      <td>US</td>\n",
       "    </tr>\n",
       "  </tbody>\n",
       "</table>\n",
       "</div>"
      ],
      "text/plain": [
       "                 hotel_name    hotel_address hotel_city hotel_country\n",
       "20565  Ip Casino Resort Spa  850 Bayview Ave     Biloxi            US"
      ]
     },
     "execution_count": 41,
     "metadata": {},
     "output_type": "execute_result"
    }
   ],
   "source": [
    "test_review = ['''\n",
    "    I loved the beach and the sunshine and the clean and modern room.\n",
    "    ''']\n",
    "# Convert your test review into a vector\n",
    "X_test = vectorizer.transform(test_review).toarray()\n",
    "#Match your review\n",
    "prediction = rfc.predict(X_test)[0]\n",
    "# Return the essential information about your match\n",
    "hotel_df[hotel_df['hotel_name'] == prediction][['hotel_name', 'hotel_address', \n",
    "                                        'hotel_city', 'hotel_country']].head(1)"
   ]
  },
  {
   "cell_type": "markdown",
   "metadata": {},
   "source": [
    "# Machine learning"
   ]
  },
  {
   "cell_type": "markdown",
   "metadata": {},
   "source": [
    "# Logistic"
   ]
  },
  {
   "cell_type": "markdown",
   "metadata": {},
   "source": [
    "Logistic CV ngram(1,2) "
   ]
  },
  {
   "cell_type": "code",
   "execution_count": 13,
   "metadata": {
    "scrolled": true
   },
   "outputs": [
    {
     "name": "stderr",
     "output_type": "stream",
     "text": [
      "C:\\Users\\Jack\\Anaconda3\\lib\\site-packages\\sklearn\\linear_model\\logistic.py:432: FutureWarning: Default solver will be changed to 'lbfgs' in 0.22. Specify a solver to silence this warning.\n",
      "  FutureWarning)\n",
      "C:\\Users\\Jack\\Anaconda3\\lib\\site-packages\\sklearn\\linear_model\\logistic.py:469: FutureWarning: Default multi_class will be changed to 'auto' in 0.22. Specify the multi_class option to silence this warning.\n",
      "  \"this warning.\", FutureWarning)\n"
     ]
    },
    {
     "name": "stdout",
     "output_type": "stream",
     "text": [
      "Logistic Regression: 0.5156814737087559\n"
     ]
    },
    {
     "data": {
      "text/plain": [
       "(31234    4.0\n",
       " 27477    3.0\n",
       " 35467    2.0\n",
       " 19073    4.0\n",
       " 33809    4.0\n",
       "         ... \n",
       " 1        5.0\n",
       " 30291    5.0\n",
       " 18783    5.0\n",
       " 35167    5.0\n",
       " 30793    3.0\n",
       " Name: reviews.rating, Length: 8577, dtype: float64,\n",
       " array([5., 5., 2., ..., 5., 5., 3.]))"
      ]
     },
     "execution_count": 13,
     "metadata": {},
     "output_type": "execute_result"
    }
   ],
   "source": [
    "run_ML = hotel_df.loc[:,[\"reviews.rating\", \"cleaned_text\"]]\n",
    "def logistic(x,y):\n",
    "    x_train, x_test, y_train, y_test = train_test_split(x, y, test_size=0.25, random_state = 42)\n",
    "    classf = LogisticRegression()\n",
    "    classf.fit(x_train, y_train)\n",
    "    pred = classf.predict(x_test)\n",
    "    print(\"Logistic Regression:\",accuracy_score(y_test, pred))\n",
    "    return(y_test, pred)\n",
    "cv = CountVectorizer(ngram_range = (1,2))\n",
    "x_cv = cv.fit_transform(run_ML[\"cleaned_text\"])\n",
    "logistic(x_cv,run_ML['reviews.rating'])"
   ]
  },
  {
   "cell_type": "markdown",
   "metadata": {},
   "source": [
    "Logistic tf-idf"
   ]
  },
  {
   "cell_type": "code",
   "execution_count": 10,
   "metadata": {
    "scrolled": true
   },
   "outputs": [
    {
     "name": "stderr",
     "output_type": "stream",
     "text": [
      "C:\\Users\\Jack\\Anaconda3\\lib\\site-packages\\sklearn\\linear_model\\logistic.py:432: FutureWarning: Default solver will be changed to 'lbfgs' in 0.22. Specify a solver to silence this warning.\n",
      "  FutureWarning)\n",
      "C:\\Users\\Jack\\Anaconda3\\lib\\site-packages\\sklearn\\linear_model\\logistic.py:469: FutureWarning: Default multi_class will be changed to 'auto' in 0.22. Specify the multi_class option to silence this warning.\n",
      "  \"this warning.\", FutureWarning)\n"
     ]
    },
    {
     "name": "stdout",
     "output_type": "stream",
     "text": [
      "Logistic Regression: 0.5156814737087559\n"
     ]
    },
    {
     "data": {
      "text/plain": [
       "(31234    4.0\n",
       " 27477    3.0\n",
       " 35467    2.0\n",
       " 19073    4.0\n",
       " 33809    4.0\n",
       "         ... \n",
       " 1        5.0\n",
       " 30291    5.0\n",
       " 18783    5.0\n",
       " 35167    5.0\n",
       " 30793    3.0\n",
       " Name: reviews.rating, Length: 8577, dtype: float64,\n",
       " array([5., 5., 2., ..., 5., 5., 3.]))"
      ]
     },
     "execution_count": 10,
     "metadata": {},
     "output_type": "execute_result"
    }
   ],
   "source": [
    "vect = TfidfVectorizer()\n",
    "x_vect = vect.fit_transform(run_ML['cleaned_text'])\n",
    "logistic(x_cv,run_ML['reviews.rating'])"
   ]
  },
  {
   "cell_type": "markdown",
   "metadata": {},
   "source": [
    "Logistic tf-idf with ngram 1,2"
   ]
  },
  {
   "cell_type": "code",
   "execution_count": 169,
   "metadata": {
    "scrolled": true
   },
   "outputs": [
    {
     "name": "stderr",
     "output_type": "stream",
     "text": [
      "C:\\Users\\Jack\\Anaconda3\\lib\\site-packages\\sklearn\\linear_model\\logistic.py:432: FutureWarning: Default solver will be changed to 'lbfgs' in 0.22. Specify a solver to silence this warning.\n",
      "  FutureWarning)\n",
      "C:\\Users\\Jack\\Anaconda3\\lib\\site-packages\\sklearn\\linear_model\\logistic.py:469: FutureWarning: Default multi_class will be changed to 'auto' in 0.22. Specify the multi_class option to silence this warning.\n",
      "  \"this warning.\", FutureWarning)\n"
     ]
    },
    {
     "name": "stdout",
     "output_type": "stream",
     "text": [
      "Logistic Regression: 0.5229781771501926\n"
     ]
    },
    {
     "data": {
      "text/plain": [
       "(6466     5.0\n",
       " 6996     3.0\n",
       " 8571     5.0\n",
       " 33585    1.0\n",
       " 21487    5.0\n",
       "         ... \n",
       " 19012    4.0\n",
       " 19217    5.0\n",
       " 2269     5.0\n",
       " 16476    3.0\n",
       " 32976    5.0\n",
       " Name: reviews.rating, Length: 7790, dtype: float64,\n",
       " array([3., 4., 5., ..., 5., 4., 4.]))"
      ]
     },
     "execution_count": 169,
     "metadata": {},
     "output_type": "execute_result"
    }
   ],
   "source": [
    "vect = TfidfVectorizer(ngram_range = (1,2))\n",
    "x_vect = vect.fit_transform(run_ML['cleaned_text'])\n",
    "logistic(x_cv,run_ML['reviews.rating'])"
   ]
  },
  {
   "cell_type": "markdown",
   "metadata": {},
   "source": [
    "# Linear support vector machine"
   ]
  },
  {
   "cell_type": "markdown",
   "metadata": {},
   "source": [
    "CV with ngram"
   ]
  },
  {
   "cell_type": "code",
   "execution_count": 170,
   "metadata": {
    "scrolled": true
   },
   "outputs": [
    {
     "name": "stdout",
     "output_type": "stream",
     "text": [
      "Linear SVC: 0.49550706033376124\n"
     ]
    },
    {
     "name": "stderr",
     "output_type": "stream",
     "text": [
      "C:\\Users\\Jack\\Anaconda3\\lib\\site-packages\\sklearn\\svm\\base.py:929: ConvergenceWarning: Liblinear failed to converge, increase the number of iterations.\n",
      "  \"the number of iterations.\", ConvergenceWarning)\n"
     ]
    },
    {
     "data": {
      "text/plain": [
       "(6466     5.0\n",
       " 6996     3.0\n",
       " 8571     5.0\n",
       " 33585    1.0\n",
       " 21487    5.0\n",
       "         ... \n",
       " 19012    4.0\n",
       " 19217    5.0\n",
       " 2269     5.0\n",
       " 16476    3.0\n",
       " 32976    5.0\n",
       " Name: reviews.rating, Length: 7790, dtype: float64,\n",
       " array([4., 4., 5., ..., 5., 4., 5.]))"
      ]
     },
     "execution_count": 170,
     "metadata": {},
     "output_type": "execute_result"
    }
   ],
   "source": [
    "def linsvc(x,y):\n",
    "    x_train, x_test, y_train, y_test = train_test_split(x, y, test_size=0.25, random_state = 42)\n",
    "    classf = LinearSVC()\n",
    "    classf.fit(x_train, y_train)\n",
    "    pred = classf.predict(x_test)\n",
    "    print(\"Linear SVC:\",accuracy_score(y_test, pred))\n",
    "    return(y_test, pred)\n",
    "vect = CountVectorizer(ngram_range=(1,2))\n",
    "x_vect = vect.fit_transform(run_ML['cleaned_text'])\n",
    "linsvc(x_vect,run_ML['reviews.rating'])"
   ]
  },
  {
   "cell_type": "markdown",
   "metadata": {},
   "source": [
    "tf-idf with ngram"
   ]
  },
  {
   "cell_type": "code",
   "execution_count": 12,
   "metadata": {
    "scrolled": false
   },
   "outputs": [
    {
     "ename": "NameError",
     "evalue": "name 'linsvc' is not defined",
     "output_type": "error",
     "traceback": [
      "\u001b[1;31m---------------------------------------------------------------------------\u001b[0m",
      "\u001b[1;31mNameError\u001b[0m                                 Traceback (most recent call last)",
      "\u001b[1;32m<ipython-input-12-3e9c098dd7e2>\u001b[0m in \u001b[0;36m<module>\u001b[1;34m\u001b[0m\n\u001b[0;32m      1\u001b[0m \u001b[0mvect\u001b[0m \u001b[1;33m=\u001b[0m \u001b[0mTfidfVectorizer\u001b[0m\u001b[1;33m(\u001b[0m\u001b[0mngram_range\u001b[0m\u001b[1;33m=\u001b[0m\u001b[1;33m(\u001b[0m\u001b[1;36m1\u001b[0m\u001b[1;33m,\u001b[0m\u001b[1;36m2\u001b[0m\u001b[1;33m)\u001b[0m\u001b[1;33m,\u001b[0m\u001b[0mstop_words\u001b[0m \u001b[1;33m=\u001b[0m \u001b[1;34m\"english\"\u001b[0m\u001b[1;33m,\u001b[0m \u001b[0mmax_features\u001b[0m \u001b[1;33m=\u001b[0m \u001b[1;36m100000\u001b[0m\u001b[1;33m)\u001b[0m\u001b[1;33m\u001b[0m\u001b[1;33m\u001b[0m\u001b[0m\n\u001b[0;32m      2\u001b[0m \u001b[0mx_vect\u001b[0m \u001b[1;33m=\u001b[0m \u001b[0mvect\u001b[0m\u001b[1;33m.\u001b[0m\u001b[0mfit_transform\u001b[0m\u001b[1;33m(\u001b[0m\u001b[0mrun_ML\u001b[0m\u001b[1;33m[\u001b[0m\u001b[1;34m'cleaned_text'\u001b[0m\u001b[1;33m]\u001b[0m\u001b[1;33m)\u001b[0m\u001b[1;33m\u001b[0m\u001b[1;33m\u001b[0m\u001b[0m\n\u001b[1;32m----> 3\u001b[1;33m \u001b[0mlinsvc\u001b[0m\u001b[1;33m(\u001b[0m\u001b[0mx_vect\u001b[0m\u001b[1;33m,\u001b[0m\u001b[0mrun_ML\u001b[0m\u001b[1;33m[\u001b[0m\u001b[1;34m'reviews.rating'\u001b[0m\u001b[1;33m]\u001b[0m\u001b[1;33m)\u001b[0m\u001b[1;33m\u001b[0m\u001b[1;33m\u001b[0m\u001b[0m\n\u001b[0m",
      "\u001b[1;31mNameError\u001b[0m: name 'linsvc' is not defined"
     ]
    }
   ],
   "source": [
    "vect = TfidfVectorizer(ngram_range=(1,2),stop_words = \"english\", max_features = 100000)\n",
    "x_vect = vect.fit_transform(run_ML['cleaned_text'])\n",
    "linsvc(x_vect,run_ML['reviews.rating'])"
   ]
  },
  {
   "cell_type": "code",
   "execution_count": 11,
   "metadata": {},
   "outputs": [],
   "source": [
    "\n"
   ]
  },
  {
   "cell_type": "markdown",
   "metadata": {},
   "source": [
    "# Random Forest"
   ]
  },
  {
   "cell_type": "markdown",
   "metadata": {},
   "source": [
    "CV"
   ]
  },
  {
   "cell_type": "code",
   "execution_count": 179,
   "metadata": {},
   "outputs": [
    {
     "name": "stderr",
     "output_type": "stream",
     "text": [
      "C:\\Users\\Jack\\Anaconda3\\lib\\site-packages\\sklearn\\ensemble\\forest.py:245: FutureWarning: The default value of n_estimators will change from 10 in version 0.20 to 100 in 0.22.\n",
      "  \"10 in version 0.20 to 100 in 0.22.\", FutureWarning)\n"
     ]
    },
    {
     "name": "stdout",
     "output_type": "stream",
     "text": [
      "Random Forest: 0.44146341463414634\n"
     ]
    },
    {
     "data": {
      "text/plain": [
       "(6466     5.0\n",
       " 6996     3.0\n",
       " 8571     5.0\n",
       " 33585    1.0\n",
       " 21487    5.0\n",
       "         ... \n",
       " 19012    4.0\n",
       " 19217    5.0\n",
       " 2269     5.0\n",
       " 16476    3.0\n",
       " 32976    5.0\n",
       " Name: reviews.rating, Length: 7790, dtype: float64,\n",
       " array([4., 4., 4., ..., 5., 1., 5.]))"
      ]
     },
     "execution_count": 179,
     "metadata": {},
     "output_type": "execute_result"
    }
   ],
   "source": [
    "def random_forest(x,y):\n",
    "    x_train, x_test, y_train, y_test = train_test_split(x, y, test_size=0.25, random_state = 42)\n",
    "    classf = RandomForestClassifier(criterion=\"entropy\")\n",
    "    classf.fit(x_train, y_train)\n",
    "    pred = classf.predict(x_test)\n",
    "    print(\"Random Forest:\",accuracy_score(y_test, pred))\n",
    "    return(y_test, pred)\n",
    "cv = CountVectorizer()\n",
    "x_cv = cv.fit_transform(run_ML[\"cleaned_text\"])\n",
    "random_forest(x_cv,run_ML['reviews.rating'])"
   ]
  },
  {
   "cell_type": "code",
   "execution_count": 180,
   "metadata": {},
   "outputs": [
    {
     "name": "stderr",
     "output_type": "stream",
     "text": [
      "C:\\Users\\Jack\\Anaconda3\\lib\\site-packages\\sklearn\\ensemble\\forest.py:245: FutureWarning: The default value of n_estimators will change from 10 in version 0.20 to 100 in 0.22.\n",
      "  \"10 in version 0.20 to 100 in 0.22.\", FutureWarning)\n"
     ]
    },
    {
     "name": "stdout",
     "output_type": "stream",
     "text": [
      "Random Forest: 0.43594351732991016\n"
     ]
    },
    {
     "data": {
      "text/plain": [
       "(6466     5.0\n",
       " 6996     3.0\n",
       " 8571     5.0\n",
       " 33585    1.0\n",
       " 21487    5.0\n",
       "         ... \n",
       " 19012    4.0\n",
       " 19217    5.0\n",
       " 2269     5.0\n",
       " 16476    3.0\n",
       " 32976    5.0\n",
       " Name: reviews.rating, Length: 7790, dtype: float64,\n",
       " array([5., 4., 5., ..., 5., 1., 5.]))"
      ]
     },
     "execution_count": 180,
     "metadata": {},
     "output_type": "execute_result"
    }
   ],
   "source": [
    "cv = CountVectorizer(ngram_range=(1,2))\n",
    "x_cv = cv.fit_transform(run_ML[\"cleaned_text\"])\n",
    "random_forest(x_cv,run_ML['reviews.rating'])"
   ]
  },
  {
   "cell_type": "markdown",
   "metadata": {},
   "source": [
    "tf-idf"
   ]
  },
  {
   "cell_type": "code",
   "execution_count": 183,
   "metadata": {},
   "outputs": [
    {
     "name": "stderr",
     "output_type": "stream",
     "text": [
      "C:\\Users\\Jack\\Anaconda3\\lib\\site-packages\\sklearn\\ensemble\\forest.py:245: FutureWarning: The default value of n_estimators will change from 10 in version 0.20 to 100 in 0.22.\n",
      "  \"10 in version 0.20 to 100 in 0.22.\", FutureWarning)\n"
     ]
    },
    {
     "name": "stdout",
     "output_type": "stream",
     "text": [
      "Random Forest: 0.43414634146341463\n"
     ]
    },
    {
     "data": {
      "text/plain": [
       "(6466     5.0\n",
       " 6996     3.0\n",
       " 8571     5.0\n",
       " 33585    1.0\n",
       " 21487    5.0\n",
       "         ... \n",
       " 19012    4.0\n",
       " 19217    5.0\n",
       " 2269     5.0\n",
       " 16476    3.0\n",
       " 32976    5.0\n",
       " Name: reviews.rating, Length: 7790, dtype: float64,\n",
       " array([5., 5., 4., ..., 4., 2., 5.]))"
      ]
     },
     "execution_count": 183,
     "metadata": {},
     "output_type": "execute_result"
    }
   ],
   "source": [
    "tf = TfidfVectorizer(ngram_range=(1,2))\n",
    "x_tf = tf.fit_transform(run_ML[\"cleaned_text\"])\n",
    "random_forest(x_tf,run_ML['reviews.rating'])"
   ]
  },
  {
   "cell_type": "markdown",
   "metadata": {},
   "source": [
    "# NB"
   ]
  },
  {
   "cell_type": "code",
   "execution_count": 188,
   "metadata": {},
   "outputs": [],
   "source": [
    "from sklearn.naive_bayes import BernoulliNB\n",
    "def Bernoulli_NB(x,y):\n",
    "    x_train, x_test, y_train, y_test = train_test_split(x, y, test_size=0.25, random_state = 42)\n",
    "    classf = BernoulliNB()\n",
    "    classf.fit(x_train, y_train)\n",
    "    pred = classf.predict(x_test)\n",
    "    print(\"BernoulliNB:\",accuracy_score(y_test, pred))\n",
    "    return(y_test, pred)"
   ]
  },
  {
   "cell_type": "markdown",
   "metadata": {},
   "source": [
    "CV with ngram"
   ]
  },
  {
   "cell_type": "code",
   "execution_count": 189,
   "metadata": {},
   "outputs": [
    {
     "name": "stdout",
     "output_type": "stream",
     "text": [
      "BernoulliNB: 0.3982028241335045\n"
     ]
    },
    {
     "data": {
      "text/plain": [
       "(6466     5.0\n",
       " 6996     3.0\n",
       " 8571     5.0\n",
       " 33585    1.0\n",
       " 21487    5.0\n",
       "         ... \n",
       " 19012    4.0\n",
       " 19217    5.0\n",
       " 2269     5.0\n",
       " 16476    3.0\n",
       " 32976    5.0\n",
       " Name: reviews.rating, Length: 7790, dtype: float64,\n",
       " array([5., 5., 5., ..., 5., 4., 5.]))"
      ]
     },
     "execution_count": 189,
     "metadata": {},
     "output_type": "execute_result"
    }
   ],
   "source": [
    "cv = CountVectorizer(ngram_range = (1,2))\n",
    "x_cv = cv.fit_transform(run_ML[\"cleaned_text\"])\n",
    "Bernoulli_NB(x_cv,run_ML['reviews.rating'])"
   ]
  },
  {
   "cell_type": "markdown",
   "metadata": {},
   "source": [
    "TF-IDF with ngram"
   ]
  },
  {
   "cell_type": "code",
   "execution_count": 193,
   "metadata": {},
   "outputs": [
    {
     "name": "stdout",
     "output_type": "stream",
     "text": [
      "BernoulliNB: 0.49987163029525034\n"
     ]
    },
    {
     "data": {
      "text/plain": [
       "(6466     5.0\n",
       " 6996     3.0\n",
       " 8571     5.0\n",
       " 33585    1.0\n",
       " 21487    5.0\n",
       "         ... \n",
       " 19012    4.0\n",
       " 19217    5.0\n",
       " 2269     5.0\n",
       " 16476    3.0\n",
       " 32976    5.0\n",
       " Name: reviews.rating, Length: 7790, dtype: float64,\n",
       " array([4., 5., 5., ..., 5., 2., 4.]))"
      ]
     },
     "execution_count": 193,
     "metadata": {},
     "output_type": "execute_result"
    }
   ],
   "source": [
    "tf = TfidfVectorizer()\n",
    "x_cv = tf.fit_transform(run_ML[\"cleaned_text\"])\n",
    "Bernoulli_NB(x_cv,run_ML['reviews.rating'])"
   ]
  },
  {
   "cell_type": "markdown",
   "metadata": {},
   "source": [
    "# SVC"
   ]
  },
  {
   "cell_type": "code",
   "execution_count": 195,
   "metadata": {},
   "outputs": [],
   "source": [
    "def svc(x,y):\n",
    "    x_train, x_test, y_train, y_test = train_test_split(x, y, test_size=0.25, random_state = 42)\n",
    "    classf = SVC()\n",
    "    classf.fit(x_train, y_train)\n",
    "    pred = classf.predict(x_test)\n",
    "    print(\"SVC:\",accuracy_score(y_test, pred))\n",
    "    return(y_test, pred)"
   ]
  },
  {
   "cell_type": "markdown",
   "metadata": {},
   "source": [
    "# CV with ngram"
   ]
  },
  {
   "cell_type": "code",
   "execution_count": 196,
   "metadata": {},
   "outputs": [
    {
     "name": "stderr",
     "output_type": "stream",
     "text": [
      "C:\\Users\\Jack\\Anaconda3\\lib\\site-packages\\sklearn\\svm\\base.py:193: FutureWarning: The default value of gamma will change from 'auto' to 'scale' in version 0.22 to account better for unscaled features. Set gamma explicitly to 'auto' or 'scale' to avoid this warning.\n",
      "  \"avoid this warning.\", FutureWarning)\n"
     ]
    },
    {
     "name": "stdout",
     "output_type": "stream",
     "text": [
      "SVC: 0.3600770218228498\n"
     ]
    },
    {
     "data": {
      "text/plain": [
       "(6466     5.0\n",
       " 6996     3.0\n",
       " 8571     5.0\n",
       " 33585    1.0\n",
       " 21487    5.0\n",
       "         ... \n",
       " 19012    4.0\n",
       " 19217    5.0\n",
       " 2269     5.0\n",
       " 16476    3.0\n",
       " 32976    5.0\n",
       " Name: reviews.rating, Length: 7790, dtype: float64,\n",
       " array([5., 5., 5., ..., 5., 5., 5.]))"
      ]
     },
     "execution_count": 196,
     "metadata": {},
     "output_type": "execute_result"
    }
   ],
   "source": [
    "cv = CountVectorizer(ngram_range = (1,2))\n",
    "x_cv = cv.fit_transform(run_ML[\"cleaned_text\"])\n",
    "svc(x_cv,run_ML['reviews.rating'])"
   ]
  },
  {
   "cell_type": "markdown",
   "metadata": {},
   "source": [
    "# TF-IDF with ngram"
   ]
  },
  {
   "cell_type": "code",
   "execution_count": null,
   "metadata": {},
   "outputs": [],
   "source": []
  }
 ],
 "metadata": {
  "kernelspec": {
   "display_name": "Python 3",
   "language": "python",
   "name": "python3"
  },
  "language_info": {
   "codemirror_mode": {
    "name": "ipython",
    "version": 3
   },
   "file_extension": ".py",
   "mimetype": "text/x-python",
   "name": "python",
   "nbconvert_exporter": "python",
   "pygments_lexer": "ipython3",
   "version": "3.7.4"
  }
 },
 "nbformat": 4,
 "nbformat_minor": 2
}
